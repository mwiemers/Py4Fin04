{
 "cells": [
  {
   "cell_type": "markdown",
   "metadata": {},
   "source": [
    "# Porfolio Optimization"
   ]
  },
  {
   "cell_type": "markdown",
   "metadata": {},
   "source": [
    "Portfolio optimization is a popular tool in the finance and investment world to make decisions on how to best meet financial goals considering relative risks involved.\n",
    "\n",
    "This tutorial builds on what you have previously learned in the practical sessions and the online learning on the dataquest platform. It will teach you how to apply some basic portfolio optimization by running a simulation with randomly generated weights for each stock in your portfolio. Based on the simulated random weights, the returns and risk for the portfolio can be estimated using the sharpe ratio. A visualization of the results of the simulation, the efficient frontier, can be used to decide the optimal weights given the maximum risk someone is willing to take. In the last section, you will learn how to access the Fama French 3 data to analyse whether the portfolio contains a significant proportion of small-value stocks.\n",
    "\n"
   ]
  },
  {
   "cell_type": "markdown",
   "metadata": {},
   "source": [
    "## Calculating returns\n",
    "\n",
    "In this first section, we are going to look at different ways we can calculate returns for individual stocks and for a portfolio."
   ]
  },
  {
   "cell_type": "markdown",
   "metadata": {},
   "source": [
    "#### Importing libraries\n",
    "\n",
    "We start by importing the libraries that we will need."
   ]
  },
  {
   "cell_type": "code",
   "execution_count": 741,
   "metadata": {},
   "outputs": [],
   "source": [
    "import pandas as pd\n",
    "import numpy as np\n",
    "import matplotlib.pyplot as plt\n",
    "import yfinance as yf\n",
    "import pandas_datareader.data as web"
   ]
  },
  {
   "cell_type": "markdown",
   "metadata": {},
   "source": [
    "#### Downloading the stock price data from yahoo finance\n",
    "\n",
    "We will download the stock data from Apple, Tesla and Microsoft to illustrate how we can calculate returns and portfolio returns."
   ]
  },
  {
   "cell_type": "code",
   "execution_count": 742,
   "metadata": {},
   "outputs": [
    {
     "name": "stdout",
     "output_type": "stream",
     "text": [
      "[*********************100%***********************]  3 of 3 completed\n"
     ]
    }
   ],
   "source": [
    "tickers = 'AAPL TSLA MSFT'.split()\n",
    "\n",
    "# We are only interested in the price data, \n",
    "# which is why we only select the 'Adj Close' column\n",
    "daily_ret = yf.download(tickers, period='5y')['Adj Close']"
   ]
  },
  {
   "cell_type": "markdown",
   "metadata": {},
   "source": [
    "#### Calcualting returns\n",
    "\n",
    "You can calculate daily returns using the .pct_change() method."
   ]
  },
  {
   "cell_type": "code",
   "execution_count": 744,
   "metadata": {},
   "outputs": [
    {
     "data": {
      "text/html": [
       "<div>\n",
       "<style scoped>\n",
       "    .dataframe tbody tr th:only-of-type {\n",
       "        vertical-align: middle;\n",
       "    }\n",
       "\n",
       "    .dataframe tbody tr th {\n",
       "        vertical-align: top;\n",
       "    }\n",
       "\n",
       "    .dataframe thead th {\n",
       "        text-align: right;\n",
       "    }\n",
       "</style>\n",
       "<table border=\"1\" class=\"dataframe\">\n",
       "  <thead>\n",
       "    <tr style=\"text-align: right;\">\n",
       "      <th></th>\n",
       "      <th>AAPL</th>\n",
       "      <th>MSFT</th>\n",
       "      <th>TSLA</th>\n",
       "    </tr>\n",
       "    <tr>\n",
       "      <th>Date</th>\n",
       "      <th></th>\n",
       "      <th></th>\n",
       "      <th></th>\n",
       "    </tr>\n",
       "  </thead>\n",
       "  <tbody>\n",
       "    <tr>\n",
       "      <th>2016-03-21</th>\n",
       "      <td>NaN</td>\n",
       "      <td>NaN</td>\n",
       "      <td>NaN</td>\n",
       "    </tr>\n",
       "    <tr>\n",
       "      <th>2016-03-22</th>\n",
       "      <td>0.007648</td>\n",
       "      <td>0.003899</td>\n",
       "      <td>-0.017120</td>\n",
       "    </tr>\n",
       "    <tr>\n",
       "      <th>2016-03-23</th>\n",
       "      <td>-0.005529</td>\n",
       "      <td>-0.001849</td>\n",
       "      <td>-0.049778</td>\n",
       "    </tr>\n",
       "    <tr>\n",
       "      <th>2016-03-24</th>\n",
       "      <td>-0.004334</td>\n",
       "      <td>0.004447</td>\n",
       "      <td>0.023228</td>\n",
       "    </tr>\n",
       "    <tr>\n",
       "      <th>2016-03-28</th>\n",
       "      <td>-0.004542</td>\n",
       "      <td>-0.012359</td>\n",
       "      <td>0.011021</td>\n",
       "    </tr>\n",
       "  </tbody>\n",
       "</table>\n",
       "</div>"
      ],
      "text/plain": [
       "                AAPL      MSFT      TSLA\n",
       "Date                                    \n",
       "2016-03-21       NaN       NaN       NaN\n",
       "2016-03-22  0.007648  0.003899 -0.017120\n",
       "2016-03-23 -0.005529 -0.001849 -0.049778\n",
       "2016-03-24 -0.004334  0.004447  0.023228\n",
       "2016-03-28 -0.004542 -0.012359  0.011021"
      ]
     },
     "execution_count": 744,
     "metadata": {},
     "output_type": "execute_result"
    }
   ],
   "source": [
    "daily_ret = daily_ret.pct_change()\n",
    "\n",
    "daily_ret.head()"
   ]
  },
  {
   "cell_type": "markdown",
   "metadata": {},
   "source": [
    "#### Calculating mean daily portfolio return using weights\n",
    "\n",
    "Based on the mean daily stock returns, we can calculate the return for our portfolio of stocks. One way to do this, is by calculating the average returns of all stocks in the dataset using the .mean() method. We have to set the axis parameter to 1 so that we average across the columns and not the rows!\n",
    "\n",
    "This generates a new column with the average daily returns."
   ]
  },
  {
   "cell_type": "code",
   "execution_count": 746,
   "metadata": {
    "scrolled": true
   },
   "outputs": [
    {
     "data": {
      "text/plain": [
       "Date\n",
       "2016-03-21         NaN\n",
       "2016-03-22   -0.001858\n",
       "2016-03-23   -0.019052\n",
       "2016-03-24    0.007780\n",
       "2016-03-28   -0.001960\n",
       "                ...   \n",
       "2021-03-12   -0.007279\n",
       "2021-03-15    0.013651\n",
       "2021-03-16   -0.006260\n",
       "2021-03-17    0.009187\n",
       "2021-03-18   -0.043296\n",
       "Length: 1258, dtype: float64"
      ]
     },
     "execution_count": 746,
     "metadata": {},
     "output_type": "execute_result"
    }
   ],
   "source": [
    "port_rets = daily_ret.mean(axis=1)\n",
    "port_rets"
   ]
  },
  {
   "cell_type": "markdown",
   "metadata": {},
   "source": [
    "This would be an equal weights portfolio - each stock contributes equally to the portfolio. We can also select specific weights for each stock in the portfolio. We will first create an array with weights for that, so that 50% of the portfolio will be Apple stocks, 25% will be Microsoft and anotehr 25% will be Tesla stocks."
   ]
  },
  {
   "cell_type": "code",
   "execution_count": 778,
   "metadata": {},
   "outputs": [],
   "source": [
    "# creating array with portfolio weights\n",
    "weights = np.array([0.50, 0.25, 0.25])"
   ]
  },
  {
   "cell_type": "markdown",
   "metadata": {},
   "source": [
    "Now we can calculate the portfolio returns using matrix multiplication with the .dot() method."
   ]
  },
  {
   "cell_type": "code",
   "execution_count": 747,
   "metadata": {},
   "outputs": [
    {
     "data": {
      "text/plain": [
       "Date\n",
       "2016-03-21         NaN\n",
       "2016-03-22    0.000519\n",
       "2016-03-23   -0.015671\n",
       "2016-03-24    0.004751\n",
       "2016-03-28   -0.002606\n",
       "                ...   \n",
       "2021-03-12   -0.007365\n",
       "2021-03-15    0.016352\n",
       "2021-03-16   -0.001509\n",
       "2021-03-17    0.005278\n",
       "2021-03-18   -0.040948\n",
       "Length: 1258, dtype: float64"
      ]
     },
     "execution_count": 747,
     "metadata": {},
     "output_type": "execute_result"
    }
   ],
   "source": [
    "# calculating the mean portfolio return\n",
    "port_rets = daily_ret.dot(weights)\n",
    "port_rets"
   ]
  },
  {
   "cell_type": "markdown",
   "metadata": {},
   "source": [
    "#### Calculating cumulative portfolio returns\n",
    "\n",
    "You already know how to calculate cumulative returns using the .cumprod() method. The .cumprod() method creates a series of continuous products. By using .cumprod() we thus get the cumulative return for each day over the whole time period."
   ]
  },
  {
   "cell_type": "code",
   "execution_count": 771,
   "metadata": {},
   "outputs": [
    {
     "data": {
      "text/plain": [
       "Date\n",
       "2016-03-21         NaN\n",
       "2016-03-22    0.000519\n",
       "2016-03-23   -0.015161\n",
       "2016-03-24   -0.010481\n",
       "2016-03-28   -0.013060\n",
       "                ...   \n",
       "2021-03-12    6.430570\n",
       "2021-03-15    6.552078\n",
       "2021-03-16    6.540679\n",
       "2021-03-17    6.580477\n",
       "2021-03-18    6.270070\n",
       "Length: 1258, dtype: float64"
      ]
     },
     "execution_count": 771,
     "metadata": {},
     "output_type": "execute_result"
    }
   ],
   "source": [
    "(port_rets+1).cumprod() - 1 "
   ]
  },
  {
   "cell_type": "markdown",
   "metadata": {},
   "source": [
    "#### Calculating the total return\n",
    "\n",
    "To calculate the total return, we can either use the .prod() method of the return series or the np.prod() function. They both carry out the same calculation."
   ]
  },
  {
   "cell_type": "code",
   "execution_count": 772,
   "metadata": {},
   "outputs": [
    {
     "data": {
      "text/plain": [
       "6.270069624634849"
      ]
     },
     "execution_count": 772,
     "metadata": {},
     "output_type": "execute_result"
    }
   ],
   "source": [
    "# the .prod() method calculates the product\n",
    "(port_rets+1).prod() - 1"
   ]
  },
  {
   "cell_type": "code",
   "execution_count": 773,
   "metadata": {},
   "outputs": [
    {
     "data": {
      "text/plain": [
       "6.270069624634849"
      ]
     },
     "execution_count": 773,
     "metadata": {},
     "output_type": "execute_result"
    }
   ],
   "source": [
    "# the np.prod() function carries out the same calculation\n",
    "np.prod(port_rets+1) - 1"
   ]
  },
  {
   "cell_type": "markdown",
   "metadata": {},
   "source": [
    "### Task - Calculating portfolio returns"
   ]
  },
  {
   "cell_type": "markdown",
   "metadata": {},
   "source": [
    "1. Download the stock data for Google, Facebook and Amazon from the past 3 years.\n",
    "2. Calculate the equal weighted portfolio returns.\n",
    "3. Set your own portfolio weights and calculate the portfolio returns.\n",
    "4. Compare the total returns. Which weights created better total returns?\n",
    "5. Calculate the cumulative returns for each portfolio and plot them as a line in a single plot."
   ]
  },
  {
   "cell_type": "code",
   "execution_count": null,
   "metadata": {},
   "outputs": [],
   "source": []
  },
  {
   "cell_type": "markdown",
   "metadata": {},
   "source": [
    "## Risk of a portfolio"
   ]
  },
  {
   "cell_type": "markdown",
   "metadata": {},
   "source": [
    "The risk of a portfolio can be estimated by the portfolio variance which is calculated using the formula below. This is an example for a portfolio with two stocks.\n",
    "\n",
    "$$\\sigma_P^2 = w_1^2  \\sigma_1^2 + w_2^2 \\sigma_2^2 + 2w_1w_2 \\sigma_{1,2}$$\n",
    "\n",
    "where\n",
    "- $\\sigma_P^2 = $ the portfolio variance\n",
    "- $\\sigma_1 = $ the variance of stock 1\n",
    "- $\\sigma_2 = $ the variance of stock 2\n",
    "- $w_{1} = $ the weight of stock 1\n",
    "- $w_{2} = $ the weight of stock 2\n",
    "- $\\sigma_{1,2} = $ the covariance between stock 1 and stock 2\n",
    "\n",
    "\n",
    "This formula can be simplified by using the covariance matrix and multiplying the covariance with the vector of the weights as below.\n",
    "\n",
    "$$ \\sigma_P^2 = \\begin{bmatrix} w_{1} & w_{} \\end{bmatrix} \\begin{bmatrix} \\sigma_1^2 & \\sigma_{1,2}  \\\\ \\sigma_{2,1} & \\sigma_2^2 \\end{bmatrix}  \\begin{bmatrix} w_{1} \\\\ w_{2} \\end{bmatrix}  $$\n",
    "\n",
    "All we need, to calculate the portfolio variance, is the covariance matrix and the weights array and combine them using the matrix product."
   ]
  },
  {
   "cell_type": "markdown",
   "metadata": {},
   "source": [
    "#### Covariance matrix\n",
    "\n",
    "We can calculate the covariance matrix with the .cov() method"
   ]
  },
  {
   "cell_type": "code",
   "execution_count": 789,
   "metadata": {},
   "outputs": [
    {
     "data": {
      "text/html": [
       "<div>\n",
       "<style scoped>\n",
       "    .dataframe tbody tr th:only-of-type {\n",
       "        vertical-align: middle;\n",
       "    }\n",
       "\n",
       "    .dataframe tbody tr th {\n",
       "        vertical-align: top;\n",
       "    }\n",
       "\n",
       "    .dataframe thead th {\n",
       "        text-align: right;\n",
       "    }\n",
       "</style>\n",
       "<table border=\"1\" class=\"dataframe\">\n",
       "  <thead>\n",
       "    <tr style=\"text-align: right;\">\n",
       "      <th></th>\n",
       "      <th>AAPL</th>\n",
       "      <th>MSFT</th>\n",
       "      <th>TSLA</th>\n",
       "    </tr>\n",
       "  </thead>\n",
       "  <tbody>\n",
       "    <tr>\n",
       "      <th>AAPL</th>\n",
       "      <td>0.000365</td>\n",
       "      <td>0.000236</td>\n",
       "      <td>0.000286</td>\n",
       "    </tr>\n",
       "    <tr>\n",
       "      <th>MSFT</th>\n",
       "      <td>0.000236</td>\n",
       "      <td>0.000301</td>\n",
       "      <td>0.000266</td>\n",
       "    </tr>\n",
       "    <tr>\n",
       "      <th>TSLA</th>\n",
       "      <td>0.000286</td>\n",
       "      <td>0.000266</td>\n",
       "      <td>0.001379</td>\n",
       "    </tr>\n",
       "  </tbody>\n",
       "</table>\n",
       "</div>"
      ],
      "text/plain": [
       "          AAPL      MSFT      TSLA\n",
       "AAPL  0.000365  0.000236  0.000286\n",
       "MSFT  0.000236  0.000301  0.000266\n",
       "TSLA  0.000286  0.000266  0.001379"
      ]
     },
     "execution_count": 789,
     "metadata": {},
     "output_type": "execute_result"
    }
   ],
   "source": [
    "cov_mat = daily_ret.cov()\n",
    "cov_mat"
   ]
  },
  {
   "cell_type": "markdown",
   "metadata": {},
   "source": [
    "Since the covariance is the average variance per trading day, we have to multiply the covariance matrix by 250, the number of trading days in a year, to calculate the risk across the whole year. "
   ]
  },
  {
   "cell_type": "code",
   "execution_count": 790,
   "metadata": {},
   "outputs": [
    {
     "data": {
      "text/html": [
       "<div>\n",
       "<style scoped>\n",
       "    .dataframe tbody tr th:only-of-type {\n",
       "        vertical-align: middle;\n",
       "    }\n",
       "\n",
       "    .dataframe tbody tr th {\n",
       "        vertical-align: top;\n",
       "    }\n",
       "\n",
       "    .dataframe thead th {\n",
       "        text-align: right;\n",
       "    }\n",
       "</style>\n",
       "<table border=\"1\" class=\"dataframe\">\n",
       "  <thead>\n",
       "    <tr style=\"text-align: right;\">\n",
       "      <th></th>\n",
       "      <th>AAPL</th>\n",
       "      <th>MSFT</th>\n",
       "      <th>TSLA</th>\n",
       "    </tr>\n",
       "  </thead>\n",
       "  <tbody>\n",
       "    <tr>\n",
       "      <th>AAPL</th>\n",
       "      <td>0.091211</td>\n",
       "      <td>0.059017</td>\n",
       "      <td>0.071537</td>\n",
       "    </tr>\n",
       "    <tr>\n",
       "      <th>MSFT</th>\n",
       "      <td>0.059017</td>\n",
       "      <td>0.075210</td>\n",
       "      <td>0.066521</td>\n",
       "    </tr>\n",
       "    <tr>\n",
       "      <th>TSLA</th>\n",
       "      <td>0.071537</td>\n",
       "      <td>0.066521</td>\n",
       "      <td>0.344644</td>\n",
       "    </tr>\n",
       "  </tbody>\n",
       "</table>\n",
       "</div>"
      ],
      "text/plain": [
       "          AAPL      MSFT      TSLA\n",
       "AAPL  0.091211  0.059017  0.071537\n",
       "MSFT  0.059017  0.075210  0.066521\n",
       "TSLA  0.071537  0.066521  0.344644"
      ]
     },
     "execution_count": 790,
     "metadata": {},
     "output_type": "execute_result"
    }
   ],
   "source": [
    "cov_mat *= 250\n",
    "cov_mat"
   ]
  },
  {
   "cell_type": "markdown",
   "metadata": {},
   "source": [
    "Now we can calculate the portfolio variance using the formula from above. We use the .dot() method to calculate the matrix products. We transpose the vector to change its orientation using the .T attribute."
   ]
  },
  {
   "cell_type": "code",
   "execution_count": 795,
   "metadata": {
    "scrolled": true
   },
   "outputs": [
    {
     "name": "stdout",
     "output_type": "stream",
     "text": [
      "0.08999705104248071\n"
     ]
    }
   ],
   "source": [
    "port_var = cov_mat.dot(weights).dot(weights.T)\n",
    "print(port_var)"
   ]
  },
  {
   "cell_type": "markdown",
   "metadata": {},
   "source": [
    "We can also express the portfolio risk as the standard deviation by taking the square root of the variance. This is in the same units as the returns, which makes it easier to use."
   ]
  },
  {
   "cell_type": "code",
   "execution_count": 794,
   "metadata": {},
   "outputs": [
    {
     "name": "stdout",
     "output_type": "stream",
     "text": [
      "The portfolio standard deviation is: 30.0 %\n"
     ]
    }
   ],
   "source": [
    "port_sd = np.sqrt(port_var)\n",
    "print('The portfolio standard deviation is:', port_sd.round(2)*100, '%')"
   ]
  },
  {
   "cell_type": "markdown",
   "metadata": {},
   "source": [
    "### Task: Portfolio risk\n",
    "\n",
    "Using the portfolio that you have created in the previous exercise:\n",
    "\n",
    "1. Calculate the covariance matrix\n",
    "2. Calculate portfolio variance\n",
    "3. Convert it to stand deviation\n",
    "4. Looking at the covariance matrix, which company has the highest risk inside the portfolio?"
   ]
  },
  {
   "cell_type": "code",
   "execution_count": null,
   "metadata": {},
   "outputs": [],
   "source": []
  },
  {
   "cell_type": "markdown",
   "metadata": {},
   "source": [
    "## Annualized returns"
   ]
  },
  {
   "cell_type": "markdown",
   "metadata": {},
   "source": [
    "#### Formulas to calculate annualized returns\n",
    "\n",
    "We can use annualized returns to calculate the projected or average return for a year. We can either calculate the yearly return from a smaller sample of days of months or calculate the average return from multiple years. In this case, we are making a projection about the year in total. We can use the below formulas to calculate the annual return based on a sample of days or months."
   ]
  },
  {
   "cell_type": "markdown",
   "metadata": {},
   "source": [
    "**Annualized return based on days sample**\n",
    "\n",
    "- For 1-day sample\n",
    "\n",
    "    $ (1 + r)^{365} - 1 $\n",
    "\n",
    "\n",
    "- For n-day sample\n",
    "\n",
    "    $ (1 + r)^{365/n} - 1$\n"
   ]
  },
  {
   "cell_type": "code",
   "execution_count": 814,
   "metadata": {},
   "outputs": [
    {
     "name": "stdout",
     "output_type": "stream",
     "text": [
      "0.016067063931920034\n",
      "2.2013509714648394\n"
     ]
    }
   ],
   "source": [
    "# Example: Calculating the annual return from 5 days of return data.\n",
    "daily_ret = np.array([0.001, 0.002, -0.001, 0.004, 0.01])\n",
    "total_ret = (daily_ret + 1).prod() - 1\n",
    "ann_ret = (total_ret + 1)**(365/5) - 1\n",
    "print(total_ret)\n",
    "print(ann_ret)"
   ]
  },
  {
   "cell_type": "markdown",
   "metadata": {},
   "source": [
    "**Annualized return based on month sample**\n",
    "\n",
    "- For 1 month sample\n",
    "\n",
    "    $ (1 + r)^{12} - 1$\n",
    "\n",
    "\n",
    "- For n month sample\n",
    "\n",
    "    $ (1 + r)^{12/n} - 1$"
   ]
  },
  {
   "cell_type": "code",
   "execution_count": 817,
   "metadata": {},
   "outputs": [
    {
     "name": "stdout",
     "output_type": "stream",
     "text": [
      "0.009800000000000031\n",
      "0.06025956273846256\n"
     ]
    }
   ],
   "source": [
    "# Example: Calculating the annual return from 2 months of return data.\n",
    "mtl_ret = np.array([0.02, -0.01])\n",
    "total_ret = (mtl_ret + 1).prod() - 1\n",
    "ann_ret = (total_ret + 1)**(12/2) - 1\n",
    "print(total_ret)\n",
    "print(ann_ret)"
   ]
  },
  {
   "cell_type": "markdown",
   "metadata": {},
   "source": [
    "We can also calculate the actual **average** annual return based on a total return for multiple years.\n",
    "\n",
    "In this case, we have to take the n-th root of the total return"
   ]
  },
  {
   "cell_type": "markdown",
   "metadata": {},
   "source": [
    "**Annualized return based on years sample**\n",
    "\n",
    "- For n-years\n",
    "\n",
    "    $ (1 + r)^{1/n} - 1$"
   ]
  },
  {
   "cell_type": "code",
   "execution_count": 816,
   "metadata": {},
   "outputs": [
    {
     "name": "stdout",
     "output_type": "stream",
     "text": [
      "0.07068500000000011\n",
      "0.023027338215592108\n"
     ]
    }
   ],
   "source": [
    "# Example: Calculating the average annual return from 3 years of return data.\n",
    "yearly_ret = np.array([0.05, -0.01, 0.03])\n",
    "total_ret = (yearly_ret + 1).prod() - 1\n",
    "ann_ret = (total_ret + 1)**(1/3) - 1\n",
    "print(total_ret)\n",
    "print(ann_ret)"
   ]
  },
  {
   "cell_type": "markdown",
   "metadata": {},
   "source": [
    "### Task - Annualized Apple return\n",
    "\n",
    "1. Import the stock data from Apple from the last month.\n",
    "2. Calculate the total return.\n",
    "3. Calculate the annualized return."
   ]
  },
  {
   "cell_type": "code",
   "execution_count": null,
   "metadata": {},
   "outputs": [],
   "source": []
  },
  {
   "cell_type": "markdown",
   "metadata": {},
   "source": [
    "### Task - Annualized SP500 return\n",
    "1. Import the stock data from the SP500 index for the last 5 years. The ticker is SPY.\n",
    "2. Calculate the total return for the SP500 index.\n",
    "3. Calculate the annualized return."
   ]
  },
  {
   "cell_type": "code",
   "execution_count": null,
   "metadata": {},
   "outputs": [],
   "source": []
  },
  {
   "cell_type": "markdown",
   "metadata": {},
   "source": [
    "### Risk adjusted returns"
   ]
  },
  {
   "cell_type": "markdown",
   "metadata": {},
   "source": [
    "A popular way to estimate the expected return relative to its risk is the sharp ratio, which combines the return rate and portfolio standard deviation together with the risk free rate. For this tutorial, we will assume a risk free rate of 1%.\n",
    "\n",
    "$Sharpe Ratio = \\frac{R_{p} - R_{f}}{\\sigma_{p}}$\n",
    "\n",
    "where: \n",
    "\n",
    "- $R_{p} = $  portfolio return rate\n",
    "- $R_{f} = $ risk free rate\n",
    "- $\\sigma_{p} = $ portfolio standard deviation"
   ]
  },
  {
   "cell_type": "markdown",
   "metadata": {},
   "source": [
    "The sharpe ratio can be calculated for a portfolio or a single stock. If we are using annualized return rates, we also have to annualize the stock volatility or risk, which is measured with the standard deviation of the returns. To calculate the annualized risk, we have to multiply the  standard deviation with the square root of the number of trading days, which is 250."
   ]
  },
  {
   "cell_type": "markdown",
   "metadata": {},
   "source": [
    "Let us start by calculating the sharpe ratio for a single stock. We will start with the Apple stock."
   ]
  },
  {
   "cell_type": "code",
   "execution_count": 818,
   "metadata": {},
   "outputs": [
    {
     "name": "stdout",
     "output_type": "stream",
     "text": [
      "[*********************100%***********************]  1 of 1 completed\n",
      "The sharpe ratio for Apple is: 1.15 %\n"
     ]
    }
   ],
   "source": [
    "# import the stock data\n",
    "aapl = yf.download('AAPL', period='3y')\n",
    "\n",
    "# calculate the return rates\n",
    "aapl_ret = aapl['Adj Close'].pct_change()\n",
    "\n",
    "# calculate the total return over the whole period\n",
    "aapl_total_ret = np.prod(aapl_ret + 1) - 1\n",
    "\n",
    "# annualize the\n",
    "aapl_ann_ret = (aapl_total_ret+1)**(1/3) - 1\n",
    "\n",
    "# We also have to specify the risk free rate\n",
    "risk_free = .01\n",
    "\n",
    "# Now we calculate the annualized standard deviation\n",
    "aapl_ann_sd = aapl_ret.std() * np.sqrt(250)\n",
    "\n",
    "# Then we calculate the sharpe ratio\n",
    "aapl_sr = (aapl_ann_ret - risk_free) / aapl_ann_sd\n",
    "\n",
    "print('The sharpe ratio for Apple is:', round(aapl_sr,2), '%')"
   ]
  },
  {
   "cell_type": "markdown",
   "metadata": {},
   "source": [
    "### Task - Calculating sharpe ratio\n",
    "\n",
    "1. Download the Tesla stock data for the last 5 years.\n",
    "2. Calculate the return rates.\n",
    "3. Calculate the annualized return rate.\n",
    "4. Calculate the annualized standard deviation.\n",
    "5. Calculate the sharpe ratio assuming a risk free rate of 1 percent."
   ]
  },
  {
   "cell_type": "code",
   "execution_count": null,
   "metadata": {},
   "outputs": [],
   "source": []
  },
  {
   "cell_type": "markdown",
   "metadata": {},
   "source": [
    "## Portfolio optimization using a simulation"
   ]
  },
  {
   "cell_type": "markdown",
   "metadata": {},
   "source": [
    "Now that we know how to calculate the sharpe-ratio, let us run a simulation to find the optimal weights for our portfolio. We are going to calculate the sharpe ratio for a large number of randomly created weights and then visualize the results of the simulation. \n",
    "\n",
    "We start with downloading the portfolio data."
   ]
  },
  {
   "cell_type": "code",
   "execution_count": 270,
   "metadata": {},
   "outputs": [
    {
     "name": "stdout",
     "output_type": "stream",
     "text": [
      "[*********************100%***********************]  7 of 7 completed\n"
     ]
    },
    {
     "data": {
      "text/html": [
       "<div>\n",
       "<style scoped>\n",
       "    .dataframe tbody tr th:only-of-type {\n",
       "        vertical-align: middle;\n",
       "    }\n",
       "\n",
       "    .dataframe tbody tr th {\n",
       "        vertical-align: top;\n",
       "    }\n",
       "\n",
       "    .dataframe thead th {\n",
       "        text-align: right;\n",
       "    }\n",
       "</style>\n",
       "<table border=\"1\" class=\"dataframe\">\n",
       "  <thead>\n",
       "    <tr style=\"text-align: right;\">\n",
       "      <th></th>\n",
       "      <th>AAPL</th>\n",
       "      <th>AMZN</th>\n",
       "      <th>FB</th>\n",
       "      <th>GOOG</th>\n",
       "      <th>MSFT</th>\n",
       "      <th>NFLX</th>\n",
       "      <th>TSLA</th>\n",
       "    </tr>\n",
       "    <tr>\n",
       "      <th>Date</th>\n",
       "      <th></th>\n",
       "      <th></th>\n",
       "      <th></th>\n",
       "      <th></th>\n",
       "      <th></th>\n",
       "      <th></th>\n",
       "      <th></th>\n",
       "    </tr>\n",
       "  </thead>\n",
       "  <tbody>\n",
       "    <tr>\n",
       "      <th>2016-03-16</th>\n",
       "      <td>NaN</td>\n",
       "      <td>NaN</td>\n",
       "      <td>NaN</td>\n",
       "      <td>NaN</td>\n",
       "      <td>NaN</td>\n",
       "      <td>NaN</td>\n",
       "      <td>NaN</td>\n",
       "    </tr>\n",
       "    <tr>\n",
       "      <th>2016-03-17</th>\n",
       "      <td>-0.001604</td>\n",
       "      <td>-0.025824</td>\n",
       "      <td>-0.010341</td>\n",
       "      <td>0.002296</td>\n",
       "      <td>0.005704</td>\n",
       "      <td>0.003724</td>\n",
       "      <td>0.020051</td>\n",
       "    </tr>\n",
       "    <tr>\n",
       "      <th>2016-03-18</th>\n",
       "      <td>0.001134</td>\n",
       "      <td>-0.013156</td>\n",
       "      <td>0.003873</td>\n",
       "      <td>-0.000244</td>\n",
       "      <td>-0.021405</td>\n",
       "      <td>0.014039</td>\n",
       "      <td>0.028094</td>\n",
       "    </tr>\n",
       "    <tr>\n",
       "      <th>2016-03-21</th>\n",
       "      <td>-0.000094</td>\n",
       "      <td>0.003441</td>\n",
       "      <td>0.003589</td>\n",
       "      <td>0.006087</td>\n",
       "      <td>0.006917</td>\n",
       "      <td>-0.000593</td>\n",
       "      <td>0.023975</td>\n",
       "    </tr>\n",
       "    <tr>\n",
       "      <th>2016-03-22</th>\n",
       "      <td>0.007648</td>\n",
       "      <td>0.011733</td>\n",
       "      <td>0.003576</td>\n",
       "      <td>-0.001806</td>\n",
       "      <td>0.003899</td>\n",
       "      <td>-0.012072</td>\n",
       "      <td>-0.017120</td>\n",
       "    </tr>\n",
       "    <tr>\n",
       "      <th>...</th>\n",
       "      <td>...</td>\n",
       "      <td>...</td>\n",
       "      <td>...</td>\n",
       "      <td>...</td>\n",
       "      <td>...</td>\n",
       "      <td>...</td>\n",
       "      <td>...</td>\n",
       "    </tr>\n",
       "    <tr>\n",
       "      <th>2021-03-09</th>\n",
       "      <td>0.040650</td>\n",
       "      <td>0.037568</td>\n",
       "      <td>0.040852</td>\n",
       "      <td>0.014095</td>\n",
       "      <td>0.028101</td>\n",
       "      <td>0.026575</td>\n",
       "      <td>0.196412</td>\n",
       "    </tr>\n",
       "    <tr>\n",
       "      <th>2021-03-10</th>\n",
       "      <td>-0.009167</td>\n",
       "      <td>-0.001701</td>\n",
       "      <td>-0.003161</td>\n",
       "      <td>0.001135</td>\n",
       "      <td>-0.005817</td>\n",
       "      <td>-0.003752</td>\n",
       "      <td>-0.008195</td>\n",
       "    </tr>\n",
       "    <tr>\n",
       "      <th>2021-03-11</th>\n",
       "      <td>0.016503</td>\n",
       "      <td>0.018298</td>\n",
       "      <td>0.033900</td>\n",
       "      <td>0.029070</td>\n",
       "      <td>0.020265</td>\n",
       "      <td>0.036707</td>\n",
       "      <td>0.047211</td>\n",
       "    </tr>\n",
       "    <tr>\n",
       "      <th>2021-03-12</th>\n",
       "      <td>-0.007625</td>\n",
       "      <td>-0.007740</td>\n",
       "      <td>-0.020009</td>\n",
       "      <td>-0.024991</td>\n",
       "      <td>-0.005820</td>\n",
       "      <td>-0.009636</td>\n",
       "      <td>-0.008391</td>\n",
       "    </tr>\n",
       "    <tr>\n",
       "      <th>2021-03-16</th>\n",
       "      <td>0.038502</td>\n",
       "      <td>0.003365</td>\n",
       "      <td>0.040611</td>\n",
       "      <td>0.019336</td>\n",
       "      <td>0.014380</td>\n",
       "      <td>0.023493</td>\n",
       "      <td>0.003171</td>\n",
       "    </tr>\n",
       "  </tbody>\n",
       "</table>\n",
       "<p>1258 rows × 7 columns</p>\n",
       "</div>"
      ],
      "text/plain": [
       "                AAPL      AMZN        FB      GOOG      MSFT      NFLX  \\\n",
       "Date                                                                     \n",
       "2016-03-16       NaN       NaN       NaN       NaN       NaN       NaN   \n",
       "2016-03-17 -0.001604 -0.025824 -0.010341  0.002296  0.005704  0.003724   \n",
       "2016-03-18  0.001134 -0.013156  0.003873 -0.000244 -0.021405  0.014039   \n",
       "2016-03-21 -0.000094  0.003441  0.003589  0.006087  0.006917 -0.000593   \n",
       "2016-03-22  0.007648  0.011733  0.003576 -0.001806  0.003899 -0.012072   \n",
       "...              ...       ...       ...       ...       ...       ...   \n",
       "2021-03-09  0.040650  0.037568  0.040852  0.014095  0.028101  0.026575   \n",
       "2021-03-10 -0.009167 -0.001701 -0.003161  0.001135 -0.005817 -0.003752   \n",
       "2021-03-11  0.016503  0.018298  0.033900  0.029070  0.020265  0.036707   \n",
       "2021-03-12 -0.007625 -0.007740 -0.020009 -0.024991 -0.005820 -0.009636   \n",
       "2021-03-16  0.038502  0.003365  0.040611  0.019336  0.014380  0.023493   \n",
       "\n",
       "                TSLA  \n",
       "Date                  \n",
       "2016-03-16       NaN  \n",
       "2016-03-17  0.020051  \n",
       "2016-03-18  0.028094  \n",
       "2016-03-21  0.023975  \n",
       "2016-03-22 -0.017120  \n",
       "...              ...  \n",
       "2021-03-09  0.196412  \n",
       "2021-03-10 -0.008195  \n",
       "2021-03-11  0.047211  \n",
       "2021-03-12 -0.008391  \n",
       "2021-03-16  0.003171  \n",
       "\n",
       "[1258 rows x 7 columns]"
      ]
     },
     "execution_count": 270,
     "metadata": {},
     "output_type": "execute_result"
    }
   ],
   "source": [
    "tickers = 'MSFT AAPL AMZN TSLA NFLX FB GOOG'.split()\n",
    "\n",
    "stock_data = yf.download(tickers, period='5y')['Adj Close']\n",
    "\n",
    "returns = stock_data.pct_change()\n",
    "\n",
    "returns"
   ]
  },
  {
   "cell_type": "markdown",
   "metadata": {},
   "source": [
    "Now we are going to calculate some random weights to calculate the portfolio returns. np.random.uniform() generates an array with random numbers between 0 and 1 per default. "
   ]
  },
  {
   "cell_type": "code",
   "execution_count": 308,
   "metadata": {
    "scrolled": true
   },
   "outputs": [
    {
     "name": "stdout",
     "output_type": "stream",
     "text": [
      "[0.87042139 0.78844222 0.82927195 0.17919227 0.62304075 0.53467928\n",
      " 0.6396998 ]\n"
     ]
    }
   ],
   "source": [
    "wts = np.random.uniform(size=7)\n",
    "print(wts)"
   ]
  },
  {
   "cell_type": "markdown",
   "metadata": {},
   "source": [
    "The weights do not add up to 1. We can fix that by dividing the weights by their sum."
   ]
  },
  {
   "cell_type": "code",
   "execution_count": 309,
   "metadata": {},
   "outputs": [
    {
     "name": "stdout",
     "output_type": "stream",
     "text": [
      "[0.19495422 0.17659278 0.1857377  0.04013491 0.13954669 0.11975577\n",
      " 0.14327793]\n"
     ]
    }
   ],
   "source": [
    "wts = wts/sum(wts)\n",
    "print(wts)"
   ]
  },
  {
   "cell_type": "markdown",
   "metadata": {},
   "source": [
    "Now we can use those weights to calculate the annualized portfolio return. We first calculate the cumulative return for all stocks."
   ]
  },
  {
   "cell_type": "code",
   "execution_count": 317,
   "metadata": {},
   "outputs": [
    {
     "data": {
      "text/plain": [
       "AAPL     4.100863\n",
       "AMZN     4.397957\n",
       "FB       1.489749\n",
       "GOOG     1.855344\n",
       "MSFT     3.798403\n",
       "NFLX     4.336588\n",
       "TSLA    14.679042\n",
       "dtype: float64"
      ]
     },
     "execution_count": 317,
     "metadata": {},
     "output_type": "execute_result"
    }
   ],
   "source": [
    "cum_ret = np.prod(returns + 1) - 1\n",
    "cum_ret"
   ]
  },
  {
   "cell_type": "markdown",
   "metadata": {},
   "source": [
    "And then we calculate the average cumulative return for the portfolio using the weights."
   ]
  },
  {
   "cell_type": "code",
   "execution_count": 318,
   "metadata": {},
   "outputs": [
    {
     "name": "stdout",
     "output_type": "stream",
     "text": [
      "5.079863207744957\n"
     ]
    }
   ],
   "source": [
    "port_ret = (cum_ret*wts).sum()\n",
    "print(port_ret)"
   ]
  },
  {
   "cell_type": "markdown",
   "metadata": {},
   "source": [
    "Let's annualize the cumulative return"
   ]
  },
  {
   "cell_type": "code",
   "execution_count": 319,
   "metadata": {},
   "outputs": [
    {
     "name": "stdout",
     "output_type": "stream",
     "text": [
      "0.43475835226853254\n"
     ]
    }
   ],
   "source": [
    "port_ann_ret = (port_ret + 1)**(1/5) - 1\n",
    "print(port_ann_ret)"
   ]
  },
  {
   "cell_type": "markdown",
   "metadata": {},
   "source": [
    "In the next step, we have to calculate the portfolio standard deviation"
   ]
  },
  {
   "cell_type": "code",
   "execution_count": 340,
   "metadata": {},
   "outputs": [
    {
     "name": "stdout",
     "output_type": "stream",
     "text": [
      "0.2672334752515737\n"
     ]
    }
   ],
   "source": [
    "# multiply covariances by number of trading days to annualize the risk\n",
    "cov_mat = returns.cov() * 250\n",
    "port_sd = np.sqrt(cov_mat.dot(wts).dot(wts.T))\n",
    "print(port_sd)"
   ]
  },
  {
   "cell_type": "markdown",
   "metadata": {},
   "source": [
    "In the final step, we calculate the sharpe ratio using the risk free rate of 1%."
   ]
  },
  {
   "cell_type": "code",
   "execution_count": 341,
   "metadata": {},
   "outputs": [
    {
     "name": "stdout",
     "output_type": "stream",
     "text": [
      "1.5894653612114458\n"
     ]
    }
   ],
   "source": [
    "sr = (port_ann_ret - 0.01)/port_sd\n",
    "print(sr)"
   ]
  },
  {
   "cell_type": "markdown",
   "metadata": {},
   "source": [
    "Let us combine all steps!"
   ]
  },
  {
   "cell_type": "code",
   "execution_count": 358,
   "metadata": {},
   "outputs": [
    {
     "name": "stdout",
     "output_type": "stream",
     "text": [
      "[*********************100%***********************]  7 of 7 completed\n",
      "portfolio weights in percent: [16.59195486  8.15756626 18.9910954  15.96927259 17.09729944  7.67108855\n",
      " 15.5217229 ]\n",
      "annualized portfolio return 42.57 %\n",
      "annualized portfolio risk: 26.49 %\n",
      "sharpe ratio: 1.5689514548919914\n"
     ]
    }
   ],
   "source": [
    "# define constants\n",
    "tickers = 'MSFT AAPL AMZN TSLA NFLX FB GOOG'.split()\n",
    "years = 5\n",
    "risk_free = .01\n",
    "\n",
    "# get stock data\n",
    "stock_data = yf.download(tickers, period=str(years)+'y')['Adj Close']\n",
    "returns = stock_data.pct_change()\n",
    "\n",
    "# create random weights\n",
    "wts = np.random.uniform(size = len(tickers))\n",
    "wts /= sum(wts)\n",
    "print('portfolio weights in percent:', wts*100)\n",
    "\n",
    "# calculate the annualized portfolio return\n",
    "cum_ret = np.prod(returns + 1) - 1\n",
    "port_cum_ret = np.sum(cum_ret*wts)\n",
    "port_ann_ret = (port_cum_ret + 1)**(1/years) - 1\n",
    "print('annualized portfolio return', round(port_ann_ret*100, 2), '%')\n",
    "\n",
    "# calculate portofolio standard deviation\n",
    "cov_mat = returns.cov() * 250\n",
    "port_sd = np.sqrt(cov_mat.dot(wts).dot(wts.T))\n",
    "print('annualized portfolio risk:', round(port_sd*100, 2), '%')\n",
    "\n",
    "# calculate sharpe ratio\n",
    "sharpe = (port_ann_ret - risk_free) / port_sd\n",
    "print('sharpe ratio:', sharpe)\n"
   ]
  },
  {
   "cell_type": "markdown",
   "metadata": {},
   "source": [
    "#### Automatizing the calculation of the sharpe ratios \n",
    "\n",
    "Now we will simulate several thousand weights to determine the optimal portfolio. We first create the arrays, we will use to store the weights and the associated portfolio return, risk and sharpe ratio. Then we run a for loop to create the weights calculate the statistics and store them in the arrays."
   ]
  },
  {
   "cell_type": "code",
   "execution_count": 2,
   "metadata": {},
   "outputs": [
    {
     "name": "stdout",
     "output_type": "stream",
     "text": [
      "[*********************100%***********************]  7 of 7 completed\n",
      "done\n"
     ]
    }
   ],
   "source": [
    "# define constants\n",
    "tickers = 'MSFT AAPL AMZN TSLA NFLX FB GOOG'.split()\n",
    "years = 5\n",
    "risk_free = .01\n",
    "n_sim = 10000\n",
    "\n",
    "# download stock data\n",
    "stock_data = yf.download(tickers, period=str(years)+'y')['Adj Close']\n",
    "returns = stock_data.pct_change()\n",
    "\n",
    "# create arrays\n",
    "port_rets = np.zeros(n_sim)\n",
    "port_risks = np.zeros(n_sim)\n",
    "port_wts = np.zeros((n_sim, len(tickers)))\n",
    "sharpe_ratios = np.zeros(n_sim)\n",
    "\n",
    "# run main loop\n",
    "for i in range(n_sim):\n",
    "    \n",
    "    # create weights\n",
    "    wts = np.random.uniform(size=len(tickers))\n",
    "    wts /= sum(wts)\n",
    "    \n",
    "    # calculate the annualized portfolio return\n",
    "    cum_ret = np.prod(returns + 1) - 1\n",
    "    port_cum_ret = np.sum(cum_ret*wts)\n",
    "    port_ann_ret = (port_cum_ret + 1)**(1/years) - 1\n",
    "    \n",
    "    # calculate portofolio standard deviation\n",
    "    cov_mat = returns.cov() * 250\n",
    "    port_sd = np.sqrt(cov_mat.dot(wts).dot(wts.T))\n",
    "    \n",
    "    # calculate sharpe ratio\n",
    "    sharpe_ratio = (port_ann_ret - risk_free) / port_sd\n",
    "        \n",
    "    port_rets[i] = port_ann_ret\n",
    "    port_risks[i] = port_sd\n",
    "    port_wts[i] = wts\n",
    "    sharpe_ratios[i] = sharpe_ratio\n",
    "    \n",
    "\n",
    "print('done')   "
   ]
  },
  {
   "cell_type": "markdown",
   "metadata": {},
   "source": [
    "### Task - Running a portfolio simulation\n",
    "\n",
    "1. Select at least 4 stocks for your portfolio.\n",
    "2. Download the stock data, choose a period of years.\n",
    "3. Create empty arrays for the portfolio weights, returns, risks and sharpe ratio.\n",
    "4. Write the for loop to simulate 5000 random weights, calculate the statistics."
   ]
  },
  {
   "cell_type": "code",
   "execution_count": null,
   "metadata": {},
   "outputs": [],
   "source": []
  },
  {
   "cell_type": "markdown",
   "metadata": {},
   "source": [
    "### Visualizing the results"
   ]
  },
  {
   "cell_type": "markdown",
   "metadata": {},
   "source": [
    "We are now going to visualize the output of the simulation."
   ]
  },
  {
   "cell_type": "markdown",
   "metadata": {},
   "source": [
    "#### Comparing portfolios"
   ]
  },
  {
   "cell_type": "markdown",
   "metadata": {},
   "source": [
    "First, let us have a look at the portfolios with the minimum variance, maximum return and the highest sharpe ratio. We need to select the weights from the port_wts array corresponding to the lowest risk, highest return and maximum sharpe ratio. We can use the .argmin() and .argmax() method on the port_risks, port_rets and sharpe_ratios array to get the index of the lowest or highest values. The index can be used to select the corresponding weights from the port_wts array."
   ]
  },
  {
   "cell_type": "code",
   "execution_count": 614,
   "metadata": {},
   "outputs": [],
   "source": [
    "min_var_wts = port_wts[port_risks.argmin()]\n",
    "max_ret_wts = port_wts[port_rets.argmax()]\n",
    "max_sharpe_wts = port_wts[sharpe_ratios.argmax()]"
   ]
  },
  {
   "cell_type": "markdown",
   "metadata": {},
   "source": [
    "We plot the three portoflio weights in separate barplots in one figure. To apply different colors we use the colors from the tab20 color palette, which you can get with the get_cmap() function."
   ]
  },
  {
   "cell_type": "code",
   "execution_count": 105,
   "metadata": {},
   "outputs": [
    {
     "data": {
      "image/png": "[encoded data removed]",
      "text/plain": [
       "<Figure size 1080x360 with 3 Axes>"
      ]
     },
     "metadata": {},
     "output_type": "display_data"
    }
   ],
   "source": [
    "pastel = plt.get_cmap('tab20')\n",
    "plt.style.use('seaborn')\n",
    "\n",
    "fig, (ax1, ax2, ax3) = plt.subplots(nrows=1, ncols=3, figsize=(15,5))\n",
    "\n",
    "ax1.bar(x=tickers, height=min_var_wts, color = pastel.colors)\n",
    "ax1.set_title('Minimum variance portfolio')\n",
    "\n",
    "ax2.bar(x=tickers, height=max_ret_wts, color = pastel.colors)\n",
    "ax2.set_title('Maximum return portfolio')\n",
    "\n",
    "ax3.bar(x=tickers, height=max_sharpe_wts, color=pastel.colors)\n",
    "ax3.set_title('Tangency portfolio')\n",
    "\n",
    "plt.show()"
   ]
  },
  {
   "cell_type": "markdown",
   "metadata": {},
   "source": [
    "In the next step, we are going to create a plot of the efficient frontier, which represents the portfolios with the lowest risk given a level of expected return or vice versa. \n",
    "\n",
    "We use the scatter() function to plot the portfolio risk on the x-axis an the portfolio returns on the y-axis. With the c parameter we also add a color coding for the sharpe ratios.\n",
    "\n",
    "In the graph below, the efficient frontier is indicated by the 'edge' that is formed by the data points in the scatter plot. Although we have only simulated a limited number of portfolios, we know that there are no possible portfolios outside that edge. We can use the efficient frontier, to select the portfolio with the lowest risk given an expected return or vice versa.\n",
    "\n",
    "In the next step, we will also add a colorbar to better interpret the sharpe ratio values."
   ]
  },
  {
   "cell_type": "code",
   "execution_count": 89,
   "metadata": {},
   "outputs": [
    {
     "data": {
      "image/png": "[encoded data removed]",
      "text/plain": [
       "<Figure size 864x720 with 1 Axes>"
      ]
     },
     "metadata": {},
     "output_type": "display_data"
    }
   ],
   "source": [
    "# set figure size and assign the ax to _, since we won't use it\n",
    "fig, _ = plt.subplots(figsize=(12,10))\n",
    "\n",
    "# set the colormap back to a continuous one, in this case PuBu\n",
    "plt.rcParams['image.cmap'] = 'PuBu'\n",
    "\n",
    "# plot the data, port_risks on x-axis, port_rets on y-axis and sharpe\n",
    "# ratios with a colour coding\n",
    "plt.scatter(x=port_risks, y=port_rets, c=sharpe_ratios)\n",
    "\n",
    "plt.title('Efficient Frontier')\n",
    "plt.xlabel('Risk')\n",
    "plt.ylabel('Return')\n",
    "plt.show()"
   ]
  },
  {
   "cell_type": "markdown",
   "metadata": {},
   "source": [
    "#### Adding a colorbar"
   ]
  },
  {
   "cell_type": "markdown",
   "metadata": {},
   "source": [
    "To add a colorbar that gives a color scale for the sharpe ratio values, we can use the plt.colorbar() function. We also add a label for the colorbar using the .set_label() method."
   ]
  },
  {
   "cell_type": "code",
   "execution_count": 504,
   "metadata": {
    "scrolled": false
   },
   "outputs": [
    {
     "data": {
      "image/png": "[encoded data removed]",
      "text/plain": [
       "<Figure size 1200x1000 with 2 Axes>"
      ]
     },
     "metadata": {},
     "output_type": "display_data"
    }
   ],
   "source": [
    "fig, _ = plt.subplots(figsize=(12,10))\n",
    "\n",
    "plt.rcParams['image.cmap'] = 'PuBu'\n",
    "\n",
    "plt.scatter(x=port_risks, y=port_rets, c=sharpe_ratios)\n",
    "\n",
    "cbar = plt.colorbar()\n",
    "cbar.set_label('Sharpe ratios')\n",
    "\n",
    "plt.title('Efficient Frontier')\n",
    "plt.xlabel('Risk')\n",
    "plt.ylabel('Return')\n",
    "plt.show()"
   ]
  },
  {
   "cell_type": "markdown",
   "metadata": {},
   "source": [
    "### Task - Visualize the results\n",
    "\n",
    "1. Select the weights for the portfolio with the minimum variance, maximum returns and optimal sharpe ratio.\n",
    "2. Plot all three sets of weights in a single figure as barplots. Chose a color palette as in the example. Try out different ones from this list: 'Pastel1', 'Pastel2', 'Paired', 'Accent', 'Set2'.\n",
    "3. Create a scatter plot of all simulated portfolios, plotting the risk on the x-axis, the return on the y-axis and the sharpe ratio as a color coding. Also add a colorbar.\n",
    "4. Inspect the efficient frontier. Is a reduction in expected return always associated with an increase in risk?"
   ]
  },
  {
   "cell_type": "code",
   "execution_count": null,
   "metadata": {},
   "outputs": [],
   "source": []
  },
  {
   "cell_type": "markdown",
   "metadata": {},
   "source": [
    "## Fama French 3 portfolio evaluation"
   ]
  },
  {
   "cell_type": "markdown",
   "metadata": {},
   "source": [
    "#### Capital assest pricing model (CAPM)\n",
    "\n",
    "The capital assest pricing model was developed to provide an estimate of the systematic risk or market risk in order to determine whether a individual stock should be added to a portfolio. Below is the CAPM formula.\n",
    "\n",
    "$ r_i = R_F + \\beta * (RMRF) $\n",
    "\n",
    "where:\n",
    "- $R_i = $ Expected return on a security\n",
    "- $R_F = $ Risk-free rate\n",
    "- $RMRF = $ Excess return of the market (market return - risk free rate)\n",
    "- $\\beta = $ Beta of the security\n",
    "\n",
    "The crucial factor in this equation is beta. Beta describes the volatility of the stock relative to the market. A positive beta indicates higher volatility than the market. A beta of 1 indicates volatility similar to the market. A negative beta implies lower volatility than the market. One way to estimate beta is to regress 5 years of stock returns on the corresponding market returns. The market return is often estimated based on the SP500 returns."
   ]
  },
  {
   "cell_type": "markdown",
   "metadata": {},
   "source": [
    "#### Fama french 3 model and factor returns\n",
    "\n",
    "According to CAPM, the only relevant variable to take into account when making stock investment decisions is the beta, the volatility of the stock relative to the market. Fama and French extended the CAPM model by showing that there are additional factors that together do a better job to estimate stock return rates. The factors that they identified in their intial model, the Fama French 3 model, are Book-to-market equity and market capitalization. They found that small companies with high book-to-market equity generate on average the highest returns when making long-term investments.\n",
    "\n",
    "Below is the formula of the Fama French 3 model:\n",
    "\n",
    "$R_i = R_F + \\beta^{mkt} RMRF + \\beta_i^{size} SMB + \\beta_i^{value} HML $\n",
    "\n",
    "where:\n",
    "- $R_i = $ Expected return on a security\n",
    "- $R_F = $ Risk-free rate\n",
    "- $RMRF = $ Excess return of the market (market return - risk free rate)\n",
    "- $\\beta^{mkt} = $ Beta of the security relative to the market volatility\n",
    "- $\\beta^{size} = $ Beta of the security relative to the size of factor\n",
    "- $\\beta^{value} = $ Beta of the security relative to the value factor\n"
   ]
  },
  {
   "cell_type": "markdown",
   "metadata": {},
   "source": [
    "#### How is the data generated\n",
    "\n",
    "The key thing to understand about the formula is that the SMB and HML values are monthly return values comparing specific type of stock companies. The SMB returns are calculated by taking all companies, sorting them according to their market cap and then splitting them using the median. Then, the difference in monthly return rates for small - big companies is calculated, hence the SMB (Small Minus Big). Similarly, to generate the HML returns, all companies are sorted according to their book-to-market equity and the return rates for high book-to-market companies - low book-to-market companies are calculated on a monthly basis. HML stands for High Minus Low (book-to-market equity). For the HML returns, companies above the 70th percentile are categorized as high book-to-market equity and companies below 30th percentile are categorized as low book-to-market equity."
   ]
  },
  {
   "cell_type": "markdown",
   "metadata": {},
   "source": [
    "#### Evaluating portfolios using the Fama French data"
   ]
  },
  {
   "cell_type": "markdown",
   "metadata": {},
   "source": [
    "The studies from Fama and French suggest that stocks with a low size and high value outperform other stocks in the long term. A well diversified portfolio should therefore include a significant proportion of small value stocks. It is possible to get an estimate of the proportion of small value stocks in a portfolio by running a regression using the formula:\n",
    "\n",
    "$R_i - R_F = \\alpha_i + \\beta^{mkt} RMRF + \\beta_i^{size} SMB + \\beta_i^{value} HML$\n",
    "\n",
    "The new term $\\alpha$ is the intercept of the regression line and reflects the excess return that the portfolio has generated compared to the market return.\n",
    "\n",
    "We already know how to interpret the $\\beta^{mkt}$ value which indicates the volatility of the portfolio relative to the market volatility. The new coeffcients $\\beta_i^{size}$ and $\\beta_i^{value}$ reflect how strongly the portfolio returns vary with the size and value returns. The size and value returns are the returns of small and value companies minus the returns of large and growth companies. If a portfolio is well diversified and contains a substantial amount of small companies it should correlate positively with size factor returns. If the portfolio also contains a substantial level of value companies it should correlate positively with the value factor returns."
   ]
  },
  {
   "cell_type": "markdown",
   "metadata": {},
   "source": [
    "#### Importing the libraries\n",
    "\n",
    "We will first import the pandas_datareader library and the statsmodels.api module. We will need these libraries to download the Fama French 3 model data and to run the regression analysis."
   ]
  },
  {
   "cell_type": "code",
   "execution_count": 729,
   "metadata": {},
   "outputs": [],
   "source": [
    "import pandas_datareader.data as web\n",
    "import statsmodels.api as sm"
   ]
  },
  {
   "cell_type": "markdown",
   "metadata": {},
   "source": [
    "#### Preparing the portfolio data"
   ]
  },
  {
   "cell_type": "markdown",
   "metadata": {},
   "source": [
    "Before we deal with the Fama French data, let us first prepare the portfolio data for the analysis. The portfolio data is still stored in the returns variable."
   ]
  },
  {
   "cell_type": "code",
   "execution_count": 720,
   "metadata": {},
   "outputs": [
    {
     "data": {
      "text/html": [
       "<div>\n",
       "<style scoped>\n",
       "    .dataframe tbody tr th:only-of-type {\n",
       "        vertical-align: middle;\n",
       "    }\n",
       "\n",
       "    .dataframe tbody tr th {\n",
       "        vertical-align: top;\n",
       "    }\n",
       "\n",
       "    .dataframe thead th {\n",
       "        text-align: right;\n",
       "    }\n",
       "</style>\n",
       "<table border=\"1\" class=\"dataframe\">\n",
       "  <thead>\n",
       "    <tr style=\"text-align: right;\">\n",
       "      <th></th>\n",
       "      <th>AAPL</th>\n",
       "      <th>AMZN</th>\n",
       "      <th>FB</th>\n",
       "      <th>GOOG</th>\n",
       "      <th>MSFT</th>\n",
       "      <th>NFLX</th>\n",
       "      <th>TSLA</th>\n",
       "    </tr>\n",
       "    <tr>\n",
       "      <th>Date</th>\n",
       "      <th></th>\n",
       "      <th></th>\n",
       "      <th></th>\n",
       "      <th></th>\n",
       "      <th></th>\n",
       "      <th></th>\n",
       "      <th></th>\n",
       "    </tr>\n",
       "  </thead>\n",
       "  <tbody>\n",
       "    <tr>\n",
       "      <th>2016-03-18</th>\n",
       "      <td>NaN</td>\n",
       "      <td>NaN</td>\n",
       "      <td>NaN</td>\n",
       "      <td>NaN</td>\n",
       "      <td>NaN</td>\n",
       "      <td>NaN</td>\n",
       "      <td>NaN</td>\n",
       "    </tr>\n",
       "    <tr>\n",
       "      <th>2016-03-21</th>\n",
       "      <td>-0.000094</td>\n",
       "      <td>0.003441</td>\n",
       "      <td>0.003589</td>\n",
       "      <td>0.006087</td>\n",
       "      <td>0.006917</td>\n",
       "      <td>-0.000593</td>\n",
       "      <td>0.023975</td>\n",
       "    </tr>\n",
       "    <tr>\n",
       "      <th>2016-03-22</th>\n",
       "      <td>0.007648</td>\n",
       "      <td>0.011733</td>\n",
       "      <td>0.003576</td>\n",
       "      <td>-0.001806</td>\n",
       "      <td>0.003899</td>\n",
       "      <td>-0.012072</td>\n",
       "      <td>-0.017120</td>\n",
       "    </tr>\n",
       "    <tr>\n",
       "      <th>2016-03-23</th>\n",
       "      <td>-0.005529</td>\n",
       "      <td>0.016325</td>\n",
       "      <td>0.002584</td>\n",
       "      <td>-0.003631</td>\n",
       "      <td>-0.001849</td>\n",
       "      <td>-0.002504</td>\n",
       "      <td>-0.049778</td>\n",
       "    </tr>\n",
       "    <tr>\n",
       "      <th>2016-03-24</th>\n",
       "      <td>-0.004334</td>\n",
       "      <td>0.023384</td>\n",
       "      <td>0.004532</td>\n",
       "      <td>-0.003740</td>\n",
       "      <td>0.004447</td>\n",
       "      <td>-0.012351</td>\n",
       "      <td>0.023228</td>\n",
       "    </tr>\n",
       "  </tbody>\n",
       "</table>\n",
       "</div>"
      ],
      "text/plain": [
       "                AAPL      AMZN        FB      GOOG      MSFT      NFLX  \\\n",
       "Date                                                                     \n",
       "2016-03-18       NaN       NaN       NaN       NaN       NaN       NaN   \n",
       "2016-03-21 -0.000094  0.003441  0.003589  0.006087  0.006917 -0.000593   \n",
       "2016-03-22  0.007648  0.011733  0.003576 -0.001806  0.003899 -0.012072   \n",
       "2016-03-23 -0.005529  0.016325  0.002584 -0.003631 -0.001849 -0.002504   \n",
       "2016-03-24 -0.004334  0.023384  0.004532 -0.003740  0.004447 -0.012351   \n",
       "\n",
       "                TSLA  \n",
       "Date                  \n",
       "2016-03-18       NaN  \n",
       "2016-03-21  0.023975  \n",
       "2016-03-22 -0.017120  \n",
       "2016-03-23 -0.049778  \n",
       "2016-03-24  0.023228  "
      ]
     },
     "execution_count": 720,
     "metadata": {},
     "output_type": "execute_result"
    }
   ],
   "source": [
    "returns.head()"
   ]
  },
  {
   "cell_type": "markdown",
   "metadata": {},
   "source": [
    "First, we need to calculate the daily portfolio returns based on the optimal weight, which we estimated in the previous step using the simulation.\n",
    "\n",
    "To calculate the portolio returns, we can use the .dot() method on the returns dataframe. The .dot() method calculates the matrix product of the returns and the weights. Instead of adding the portfolio returns as a column to the returns dataset, we create a new dataframe with only the portfolio returns, since we do not need the values from each stock for the analysis."
   ]
  },
  {
   "cell_type": "code",
   "execution_count": 721,
   "metadata": {
    "scrolled": true
   },
   "outputs": [
    {
     "data": {
      "text/html": [
       "<div>\n",
       "<style scoped>\n",
       "    .dataframe tbody tr th:only-of-type {\n",
       "        vertical-align: middle;\n",
       "    }\n",
       "\n",
       "    .dataframe tbody tr th {\n",
       "        vertical-align: top;\n",
       "    }\n",
       "\n",
       "    .dataframe thead th {\n",
       "        text-align: right;\n",
       "    }\n",
       "</style>\n",
       "<table border=\"1\" class=\"dataframe\">\n",
       "  <thead>\n",
       "    <tr style=\"text-align: right;\">\n",
       "      <th></th>\n",
       "      <th>my_port</th>\n",
       "    </tr>\n",
       "    <tr>\n",
       "      <th>Date</th>\n",
       "      <th></th>\n",
       "    </tr>\n",
       "  </thead>\n",
       "  <tbody>\n",
       "    <tr>\n",
       "      <th>2016-03-18</th>\n",
       "      <td>NaN</td>\n",
       "    </tr>\n",
       "    <tr>\n",
       "      <th>2016-03-21</th>\n",
       "      <td>0.008909</td>\n",
       "    </tr>\n",
       "    <tr>\n",
       "      <th>2016-03-22</th>\n",
       "      <td>0.000993</td>\n",
       "    </tr>\n",
       "    <tr>\n",
       "      <th>2016-03-23</th>\n",
       "      <td>-0.010401</td>\n",
       "    </tr>\n",
       "    <tr>\n",
       "      <th>2016-03-24</th>\n",
       "      <td>0.011335</td>\n",
       "    </tr>\n",
       "  </tbody>\n",
       "</table>\n",
       "</div>"
      ],
      "text/plain": [
       "             my_port\n",
       "Date                \n",
       "2016-03-18       NaN\n",
       "2016-03-21  0.008909\n",
       "2016-03-22  0.000993\n",
       "2016-03-23 -0.010401\n",
       "2016-03-24  0.011335"
      ]
     },
     "execution_count": 721,
     "metadata": {},
     "output_type": "execute_result"
    }
   ],
   "source": [
    "my_port = pd.DataFrame(data = returns.dot(max_sharpe_wts),\n",
    "                         columns=['my_port'])\n",
    "my_port.head()"
   ]
  },
  {
   "cell_type": "markdown",
   "metadata": {},
   "source": [
    "The Fama French data, which we will download in the next step, have values for each month. In order to use both datasets for the analysis, we will have to aggregate the portfolio returns to a monthly value. \n",
    "\n",
    "In the previous practical sessions, you have learned to use extract the year and month value from the index and then group the dataframe based on these columns. Another way to group based on dates, is using the .resample() method.\n",
    "\n",
    "You can create groups for each month, using the 'M' argument and then averageing the values from each month with the .mean() method."
   ]
  },
  {
   "cell_type": "code",
   "execution_count": 727,
   "metadata": {
    "scrolled": false
   },
   "outputs": [
    {
     "data": {
      "text/html": [
       "<div>\n",
       "<style scoped>\n",
       "    .dataframe tbody tr th:only-of-type {\n",
       "        vertical-align: middle;\n",
       "    }\n",
       "\n",
       "    .dataframe tbody tr th {\n",
       "        vertical-align: top;\n",
       "    }\n",
       "\n",
       "    .dataframe thead th {\n",
       "        text-align: right;\n",
       "    }\n",
       "</style>\n",
       "<table border=\"1\" class=\"dataframe\">\n",
       "  <thead>\n",
       "    <tr style=\"text-align: right;\">\n",
       "      <th></th>\n",
       "      <th>my_port</th>\n",
       "    </tr>\n",
       "    <tr>\n",
       "      <th>Date</th>\n",
       "      <th></th>\n",
       "    </tr>\n",
       "  </thead>\n",
       "  <tbody>\n",
       "    <tr>\n",
       "      <th>2016-03-31</th>\n",
       "      <td>0.003697</td>\n",
       "    </tr>\n",
       "    <tr>\n",
       "      <th>2016-04-30</th>\n",
       "      <td>-0.001079</td>\n",
       "    </tr>\n",
       "    <tr>\n",
       "      <th>2016-05-31</th>\n",
       "      <td>0.001890</td>\n",
       "    </tr>\n",
       "    <tr>\n",
       "      <th>2016-06-30</th>\n",
       "      <td>-0.001431</td>\n",
       "    </tr>\n",
       "    <tr>\n",
       "      <th>2016-07-31</th>\n",
       "      <td>0.004523</td>\n",
       "    </tr>\n",
       "    <tr>\n",
       "      <th>...</th>\n",
       "      <td>...</td>\n",
       "    </tr>\n",
       "    <tr>\n",
       "      <th>2020-11-30</th>\n",
       "      <td>0.007400</td>\n",
       "    </tr>\n",
       "    <tr>\n",
       "      <th>2020-12-31</th>\n",
       "      <td>0.004473</td>\n",
       "    </tr>\n",
       "    <tr>\n",
       "      <th>2021-01-31</th>\n",
       "      <td>0.002266</td>\n",
       "    </tr>\n",
       "    <tr>\n",
       "      <th>2021-02-28</th>\n",
       "      <td>-0.002991</td>\n",
       "    </tr>\n",
       "    <tr>\n",
       "      <th>2021-03-31</th>\n",
       "      <td>0.002688</td>\n",
       "    </tr>\n",
       "  </tbody>\n",
       "</table>\n",
       "<p>61 rows × 1 columns</p>\n",
       "</div>"
      ],
      "text/plain": [
       "             my_port\n",
       "Date                \n",
       "2016-03-31  0.003697\n",
       "2016-04-30 -0.001079\n",
       "2016-05-31  0.001890\n",
       "2016-06-30 -0.001431\n",
       "2016-07-31  0.004523\n",
       "...              ...\n",
       "2020-11-30  0.007400\n",
       "2020-12-31  0.004473\n",
       "2021-01-31  0.002266\n",
       "2021-02-28 -0.002991\n",
       "2021-03-31  0.002688\n",
       "\n",
       "[61 rows x 1 columns]"
      ]
     },
     "execution_count": 727,
     "metadata": {},
     "output_type": "execute_result"
    }
   ],
   "source": [
    "my_port.resample('M').mean()"
   ]
  },
  {
   "cell_type": "markdown",
   "metadata": {},
   "source": [
    "To calculate the cumulative returns for each month, we have to add 1 to the return values first, then resample them for each month and calculate the product using .prod() and then subtract 1 again from the cumulative returns for each month."
   ]
  },
  {
   "cell_type": "code",
   "execution_count": null,
   "metadata": {},
   "outputs": [],
   "source": [
    "my_port_mtl = (my_port + 1).resample('M').prod()\n",
    "my_port_mtl -= 1"
   ]
  },
  {
   "cell_type": "markdown",
   "metadata": {},
   "source": [
    "The dataframe now contains the cumulative return for each month."
   ]
  },
  {
   "cell_type": "code",
   "execution_count": 728,
   "metadata": {},
   "outputs": [
    {
     "data": {
      "text/html": [
       "<div>\n",
       "<style scoped>\n",
       "    .dataframe tbody tr th:only-of-type {\n",
       "        vertical-align: middle;\n",
       "    }\n",
       "\n",
       "    .dataframe tbody tr th {\n",
       "        vertical-align: top;\n",
       "    }\n",
       "\n",
       "    .dataframe thead th {\n",
       "        text-align: right;\n",
       "    }\n",
       "</style>\n",
       "<table border=\"1\" class=\"dataframe\">\n",
       "  <thead>\n",
       "    <tr style=\"text-align: right;\">\n",
       "      <th></th>\n",
       "      <th>my_port</th>\n",
       "    </tr>\n",
       "    <tr>\n",
       "      <th>Date</th>\n",
       "      <th></th>\n",
       "    </tr>\n",
       "  </thead>\n",
       "  <tbody>\n",
       "    <tr>\n",
       "      <th>2016-03-31</th>\n",
       "      <td>0.029692</td>\n",
       "    </tr>\n",
       "    <tr>\n",
       "      <th>2016-04-30</th>\n",
       "      <td>-0.023874</td>\n",
       "    </tr>\n",
       "    <tr>\n",
       "      <th>2016-05-31</th>\n",
       "      <td>0.039150</td>\n",
       "    </tr>\n",
       "    <tr>\n",
       "      <th>2016-06-30</th>\n",
       "      <td>-0.032974</td>\n",
       "    </tr>\n",
       "    <tr>\n",
       "      <th>2016-07-31</th>\n",
       "      <td>0.093832</td>\n",
       "    </tr>\n",
       "  </tbody>\n",
       "</table>\n",
       "</div>"
      ],
      "text/plain": [
       "             my_port\n",
       "Date                \n",
       "2016-03-31  0.029692\n",
       "2016-04-30 -0.023874\n",
       "2016-05-31  0.039150\n",
       "2016-06-30 -0.032974\n",
       "2016-07-31  0.093832"
      ]
     },
     "execution_count": 728,
     "metadata": {},
     "output_type": "execute_result"
    }
   ],
   "source": [
    "my_port_mtl.head()"
   ]
  },
  {
   "cell_type": "markdown",
   "metadata": {},
   "source": [
    "#### Downloading Fama French data with pandas_datareader"
   ]
  },
  {
   "cell_type": "markdown",
   "metadata": {},
   "source": [
    "We are now going to download the Fama French data using the pandas-datareader library. To download the 3 factor data we have to pass the strings 'F-F_Research_Data_Factors' and 'famafrench'. 'famafrench' is the source from which all Fama French data is downloaded. 'F-F_Research_Data_Factors' will download the 3 factor data.\n",
    "\n",
    "The data we get is a dictionary with key 0 for the monthly data and key 1 for the annual data."
   ]
  },
  {
   "cell_type": "code",
   "execution_count": 730,
   "metadata": {
    "scrolled": true
   },
   "outputs": [
    {
     "data": {
      "text/plain": [
       "{0:          Mkt-RF   SMB    HML    RF\n",
       " Date                              \n",
       " 2016-03    6.96  0.82   1.11  0.02\n",
       " 2016-04    0.92  0.69   3.28  0.01\n",
       " 2016-05    1.78 -0.27  -1.60  0.01\n",
       " 2016-06   -0.05  0.64  -1.40  0.02\n",
       " 2016-07    3.95  2.60  -1.23  0.02\n",
       " 2016-08    0.50  1.13   3.31  0.02\n",
       " 2016-09    0.25  2.04  -1.21  0.02\n",
       " 2016-10   -2.02 -4.43   4.07  0.02\n",
       " 2016-11    4.86  5.47   8.22  0.01\n",
       " 2016-12    1.81  0.11   3.51  0.03\n",
       " 2017-01    1.94 -1.06  -2.81  0.04\n",
       " 2017-02    3.57 -2.01  -1.79  0.04\n",
       " 2017-03    0.17  1.17  -3.33  0.03\n",
       " 2017-04    1.09  0.72  -2.11  0.05\n",
       " 2017-05    1.06 -2.61  -3.67  0.06\n",
       " 2017-06    0.78  2.15   1.45  0.06\n",
       " 2017-07    1.87 -1.47  -0.36  0.07\n",
       " 2017-08    0.16 -1.62  -2.19  0.09\n",
       " 2017-09    2.51  4.47   3.14  0.09\n",
       " 2017-10    2.25 -1.95   0.12  0.09\n",
       " 2017-11    3.12 -0.58  -0.09  0.08\n",
       " 2017-12    1.06 -1.29   0.17  0.09\n",
       " 2018-01    5.58 -3.09  -1.32  0.11\n",
       " 2018-02   -3.65  0.30  -1.01  0.11\n",
       " 2018-03   -2.35  4.05  -0.12  0.12\n",
       " 2018-04    0.29  1.13   0.50  0.14\n",
       " 2018-05    2.65  5.28  -3.15  0.14\n",
       " 2018-06    0.48  1.19  -2.31  0.14\n",
       " 2018-07    3.19 -2.21   0.57  0.16\n",
       " 2018-08    3.44  1.15  -3.92  0.16\n",
       " 2018-09    0.06 -2.28  -1.63  0.15\n",
       " 2018-10   -7.68 -4.78   3.46  0.19\n",
       " 2018-11    1.69 -0.71   0.34  0.18\n",
       " 2018-12   -9.55 -2.48  -1.89  0.19\n",
       " 2019-01    8.41  2.89  -0.46  0.21\n",
       " 2019-02    3.40  2.12  -2.71  0.18\n",
       " 2019-03    1.10 -3.05  -4.19  0.19\n",
       " 2019-04    3.96 -1.75   2.02  0.21\n",
       " 2019-05   -6.94 -1.18  -2.28  0.21\n",
       " 2019-06    6.93  0.22  -0.79  0.18\n",
       " 2019-07    1.19 -2.08   0.34  0.19\n",
       " 2019-08   -2.58 -2.40  -4.85  0.16\n",
       " 2019-09    1.43 -1.05   6.77  0.18\n",
       " 2019-10    2.06  0.24  -1.88  0.15\n",
       " 2019-11    3.87  0.91  -2.05  0.12\n",
       " 2019-12    2.77  0.67   1.91  0.14\n",
       " 2020-01   -0.11 -3.08  -6.27  0.13\n",
       " 2020-02   -8.13  1.02  -3.92  0.12\n",
       " 2020-03  -13.38 -5.03 -13.96  0.12\n",
       " 2020-04   13.65  2.75  -1.39  0.00\n",
       " 2020-05    5.58  2.49  -5.05  0.01\n",
       " 2020-06    2.46  2.71  -2.35  0.01\n",
       " 2020-07    5.77 -2.18  -1.39  0.01\n",
       " 2020-08    7.63 -0.25  -2.94  0.01\n",
       " 2020-09   -3.63  0.06  -2.51  0.01\n",
       " 2020-10   -2.10  4.44   4.03  0.01\n",
       " 2020-11   12.47  5.48   2.11  0.01\n",
       " 2020-12    4.63  4.81  -1.36  0.01\n",
       " 2021-01   -0.04  7.18   2.85  0.00,\n",
       " 1:       Mkt-RF    SMB    HML    RF\n",
       " Date                            \n",
       " 2016   13.30   6.53  22.86  0.20\n",
       " 2017   21.51  -4.96 -13.84  0.80\n",
       " 2018   -6.93  -3.15  -9.34  1.81\n",
       " 2019   28.28  -6.26 -10.68  2.14\n",
       " 2020   23.67  13.07 -47.20  0.44,\n",
       " 'DESCR': 'F-F Research Data Factors\\n-------------------------\\n\\nThis file was created by CMPT_ME_BEME_RETS using the 202101 CRSP database. The 1-month TBill return is from Ibbotson and Associates, Inc. Copyright 2021 Kenneth R. French\\n\\n  0 : (59 rows x 4 cols)\\n  1 : Annual Factors: January-December (5 rows x 4 cols)'}"
      ]
     },
     "execution_count": 730,
     "metadata": {},
     "output_type": "execute_result"
    }
   ],
   "source": [
    "ff_data = web.DataReader('F-F_Research_Data_Factors', 'famafrench', \n",
    "                         start='2016-03-01')\n",
    "ff_data"
   ]
  },
  {
   "cell_type": "markdown",
   "metadata": {},
   "source": [
    "We select the monthly data."
   ]
  },
  {
   "cell_type": "code",
   "execution_count": 731,
   "metadata": {},
   "outputs": [
    {
     "data": {
      "text/html": [
       "<div>\n",
       "<style scoped>\n",
       "    .dataframe tbody tr th:only-of-type {\n",
       "        vertical-align: middle;\n",
       "    }\n",
       "\n",
       "    .dataframe tbody tr th {\n",
       "        vertical-align: top;\n",
       "    }\n",
       "\n",
       "    .dataframe thead th {\n",
       "        text-align: right;\n",
       "    }\n",
       "</style>\n",
       "<table border=\"1\" class=\"dataframe\">\n",
       "  <thead>\n",
       "    <tr style=\"text-align: right;\">\n",
       "      <th></th>\n",
       "      <th>Mkt-RF</th>\n",
       "      <th>SMB</th>\n",
       "      <th>HML</th>\n",
       "      <th>RF</th>\n",
       "    </tr>\n",
       "    <tr>\n",
       "      <th>Date</th>\n",
       "      <th></th>\n",
       "      <th></th>\n",
       "      <th></th>\n",
       "      <th></th>\n",
       "    </tr>\n",
       "  </thead>\n",
       "  <tbody>\n",
       "    <tr>\n",
       "      <th>2016-03</th>\n",
       "      <td>6.96</td>\n",
       "      <td>0.82</td>\n",
       "      <td>1.11</td>\n",
       "      <td>0.02</td>\n",
       "    </tr>\n",
       "    <tr>\n",
       "      <th>2016-04</th>\n",
       "      <td>0.92</td>\n",
       "      <td>0.69</td>\n",
       "      <td>3.28</td>\n",
       "      <td>0.01</td>\n",
       "    </tr>\n",
       "    <tr>\n",
       "      <th>2016-05</th>\n",
       "      <td>1.78</td>\n",
       "      <td>-0.27</td>\n",
       "      <td>-1.60</td>\n",
       "      <td>0.01</td>\n",
       "    </tr>\n",
       "    <tr>\n",
       "      <th>2016-06</th>\n",
       "      <td>-0.05</td>\n",
       "      <td>0.64</td>\n",
       "      <td>-1.40</td>\n",
       "      <td>0.02</td>\n",
       "    </tr>\n",
       "    <tr>\n",
       "      <th>2016-07</th>\n",
       "      <td>3.95</td>\n",
       "      <td>2.60</td>\n",
       "      <td>-1.23</td>\n",
       "      <td>0.02</td>\n",
       "    </tr>\n",
       "  </tbody>\n",
       "</table>\n",
       "</div>"
      ],
      "text/plain": [
       "         Mkt-RF   SMB   HML    RF\n",
       "Date                             \n",
       "2016-03    6.96  0.82  1.11  0.02\n",
       "2016-04    0.92  0.69  3.28  0.01\n",
       "2016-05    1.78 -0.27 -1.60  0.01\n",
       "2016-06   -0.05  0.64 -1.40  0.02\n",
       "2016-07    3.95  2.60 -1.23  0.02"
      ]
     },
     "execution_count": 731,
     "metadata": {},
     "output_type": "execute_result"
    }
   ],
   "source": [
    "ff_data = ff_data[0]\n",
    "ff_data.head()"
   ]
  },
  {
   "cell_type": "markdown",
   "metadata": {},
   "source": [
    "#### Merging the data"
   ]
  },
  {
   "cell_type": "markdown",
   "metadata": {},
   "source": [
    "In the next step, we will combine the portfolio returns data and the Fama French data into a single dataframe, since it makes it easier to prepare the data for the regression and run the regression in the final step.\n",
    "\n",
    "In order to merge the two datasets, we need a column that has unique values for each row in both datasets. We can use the index column, since there should be only one value for each months over the whole time period. Let us have a look at the values in the index of both datasets."
   ]
  },
  {
   "cell_type": "code",
   "execution_count": 717,
   "metadata": {},
   "outputs": [
    {
     "data": {
      "text/html": [
       "<div>\n",
       "<style scoped>\n",
       "    .dataframe tbody tr th:only-of-type {\n",
       "        vertical-align: middle;\n",
       "    }\n",
       "\n",
       "    .dataframe tbody tr th {\n",
       "        vertical-align: top;\n",
       "    }\n",
       "\n",
       "    .dataframe thead th {\n",
       "        text-align: right;\n",
       "    }\n",
       "</style>\n",
       "<table border=\"1\" class=\"dataframe\">\n",
       "  <thead>\n",
       "    <tr style=\"text-align: right;\">\n",
       "      <th></th>\n",
       "      <th>Mkt-RF</th>\n",
       "      <th>SMB</th>\n",
       "      <th>HML</th>\n",
       "      <th>RF</th>\n",
       "    </tr>\n",
       "    <tr>\n",
       "      <th>Date</th>\n",
       "      <th></th>\n",
       "      <th></th>\n",
       "      <th></th>\n",
       "      <th></th>\n",
       "    </tr>\n",
       "  </thead>\n",
       "  <tbody>\n",
       "    <tr>\n",
       "      <th>2016-03</th>\n",
       "      <td>6.96</td>\n",
       "      <td>0.82</td>\n",
       "      <td>1.11</td>\n",
       "      <td>0.02</td>\n",
       "    </tr>\n",
       "    <tr>\n",
       "      <th>2016-04</th>\n",
       "      <td>0.92</td>\n",
       "      <td>0.69</td>\n",
       "      <td>3.28</td>\n",
       "      <td>0.01</td>\n",
       "    </tr>\n",
       "    <tr>\n",
       "      <th>2016-05</th>\n",
       "      <td>1.78</td>\n",
       "      <td>-0.27</td>\n",
       "      <td>-1.60</td>\n",
       "      <td>0.01</td>\n",
       "    </tr>\n",
       "    <tr>\n",
       "      <th>2016-06</th>\n",
       "      <td>-0.05</td>\n",
       "      <td>0.64</td>\n",
       "      <td>-1.40</td>\n",
       "      <td>0.02</td>\n",
       "    </tr>\n",
       "    <tr>\n",
       "      <th>2016-07</th>\n",
       "      <td>3.95</td>\n",
       "      <td>2.60</td>\n",
       "      <td>-1.23</td>\n",
       "      <td>0.02</td>\n",
       "    </tr>\n",
       "  </tbody>\n",
       "</table>\n",
       "</div>"
      ],
      "text/plain": [
       "         Mkt-RF   SMB   HML    RF\n",
       "Date                             \n",
       "2016-03    6.96  0.82  1.11  0.02\n",
       "2016-04    0.92  0.69  3.28  0.01\n",
       "2016-05    1.78 -0.27 -1.60  0.01\n",
       "2016-06   -0.05  0.64 -1.40  0.02\n",
       "2016-07    3.95  2.60 -1.23  0.02"
      ]
     },
     "execution_count": 717,
     "metadata": {},
     "output_type": "execute_result"
    }
   ],
   "source": [
    "ff_data.head()"
   ]
  },
  {
   "cell_type": "code",
   "execution_count": 718,
   "metadata": {
    "scrolled": true
   },
   "outputs": [
    {
     "data": {
      "text/html": [
       "<div>\n",
       "<style scoped>\n",
       "    .dataframe tbody tr th:only-of-type {\n",
       "        vertical-align: middle;\n",
       "    }\n",
       "\n",
       "    .dataframe tbody tr th {\n",
       "        vertical-align: top;\n",
       "    }\n",
       "\n",
       "    .dataframe thead th {\n",
       "        text-align: right;\n",
       "    }\n",
       "</style>\n",
       "<table border=\"1\" class=\"dataframe\">\n",
       "  <thead>\n",
       "    <tr style=\"text-align: right;\">\n",
       "      <th></th>\n",
       "      <th>my_port</th>\n",
       "    </tr>\n",
       "    <tr>\n",
       "      <th>Date</th>\n",
       "      <th></th>\n",
       "    </tr>\n",
       "  </thead>\n",
       "  <tbody>\n",
       "    <tr>\n",
       "      <th>2016-03-31</th>\n",
       "      <td>0.029692</td>\n",
       "    </tr>\n",
       "    <tr>\n",
       "      <th>2016-04-30</th>\n",
       "      <td>-0.023874</td>\n",
       "    </tr>\n",
       "    <tr>\n",
       "      <th>2016-05-31</th>\n",
       "      <td>0.039150</td>\n",
       "    </tr>\n",
       "    <tr>\n",
       "      <th>2016-06-30</th>\n",
       "      <td>-0.032974</td>\n",
       "    </tr>\n",
       "    <tr>\n",
       "      <th>2016-07-31</th>\n",
       "      <td>0.093832</td>\n",
       "    </tr>\n",
       "  </tbody>\n",
       "</table>\n",
       "</div>"
      ],
      "text/plain": [
       "             my_port\n",
       "Date                \n",
       "2016-03-31  0.029692\n",
       "2016-04-30 -0.023874\n",
       "2016-05-31  0.039150\n",
       "2016-06-30 -0.032974\n",
       "2016-07-31  0.093832"
      ]
     },
     "execution_count": 718,
     "metadata": {},
     "output_type": "execute_result"
    }
   ],
   "source": [
    "my_port_mtl.head()"
   ]
  },
  {
   "cell_type": "markdown",
   "metadata": {},
   "source": [
    "If we look at the index of both dataframes, we see that they are in a different format. This is a problem, since we want to merge both dataframes into a single dataframe using the index as the identifier for an observation. Below you can see that the ff_data has a monthly PeriodIndex, while the my_port_mtl dataset has a DatetimeIndex that also contains a day value.\n",
    "\n",
    "We will have to change the format of the index of our my_port_mtl dataframe to the same format as the index of the ff_data dataframe. "
   ]
  },
  {
   "cell_type": "code",
   "execution_count": 663,
   "metadata": {},
   "outputs": [
    {
     "data": {
      "text/plain": [
       "PeriodIndex(['2016-03', '2016-04', '2016-05', '2016-06', '2016-07', '2016-08',\n",
       "             '2016-09', '2016-10', '2016-11', '2016-12', '2017-01', '2017-02',\n",
       "             '2017-03', '2017-04', '2017-05', '2017-06', '2017-07', '2017-08',\n",
       "             '2017-09', '2017-10', '2017-11', '2017-12', '2018-01', '2018-02',\n",
       "             '2018-03', '2018-04', '2018-05', '2018-06', '2018-07', '2018-08',\n",
       "             '2018-09', '2018-10', '2018-11', '2018-12', '2019-01', '2019-02',\n",
       "             '2019-03', '2019-04', '2019-05', '2019-06', '2019-07', '2019-08',\n",
       "             '2019-09', '2019-10', '2019-11', '2019-12', '2020-01', '2020-02',\n",
       "             '2020-03', '2020-04', '2020-05', '2020-06', '2020-07', '2020-08',\n",
       "             '2020-09', '2020-10', '2020-11', '2020-12', '2021-01'],\n",
       "            dtype='period[M]', name='Date', freq='M')"
      ]
     },
     "execution_count": 663,
     "metadata": {},
     "output_type": "execute_result"
    }
   ],
   "source": [
    "ff_data.index"
   ]
  },
  {
   "cell_type": "code",
   "execution_count": 676,
   "metadata": {},
   "outputs": [
    {
     "data": {
      "text/plain": [
       "DatetimeIndex(['2016-03-31', '2016-04-30', '2016-05-31', '2016-06-30',\n",
       "               '2016-07-31', '2016-08-31', '2016-09-30', '2016-10-31',\n",
       "               '2016-11-30', '2016-12-31', '2017-01-31', '2017-02-28',\n",
       "               '2017-03-31', '2017-04-30', '2017-05-31', '2017-06-30',\n",
       "               '2017-07-31', '2017-08-31', '2017-09-30', '2017-10-31',\n",
       "               '2017-11-30', '2017-12-31', '2018-01-31', '2018-02-28',\n",
       "               '2018-03-31', '2018-04-30', '2018-05-31', '2018-06-30',\n",
       "               '2018-07-31', '2018-08-31', '2018-09-30', '2018-10-31',\n",
       "               '2018-11-30', '2018-12-31', '2019-01-31', '2019-02-28',\n",
       "               '2019-03-31', '2019-04-30', '2019-05-31', '2019-06-30',\n",
       "               '2019-07-31', '2019-08-31', '2019-09-30', '2019-10-31',\n",
       "               '2019-11-30', '2019-12-31', '2020-01-31', '2020-02-29',\n",
       "               '2020-03-31', '2020-04-30', '2020-05-31', '2020-06-30',\n",
       "               '2020-07-31', '2020-08-31', '2020-09-30', '2020-10-31',\n",
       "               '2020-11-30', '2020-12-31', '2021-01-31', '2021-02-28',\n",
       "               '2021-03-31'],\n",
       "              dtype='datetime64[ns]', name='Date', freq='M')"
      ]
     },
     "execution_count": 676,
     "metadata": {},
     "output_type": "execute_result"
    }
   ],
   "source": [
    "my_port_mtl.index"
   ]
  },
  {
   "cell_type": "markdown",
   "metadata": {},
   "source": [
    "We can change the format using the .to_period() method on the index of the my_port_mtl dataframe and then reassign the values to the actual index."
   ]
  },
  {
   "cell_type": "code",
   "execution_count": 677,
   "metadata": {},
   "outputs": [],
   "source": [
    "my_port_mtl.index = my_port_mtl.index.to_period('M')"
   ]
  },
  {
   "cell_type": "markdown",
   "metadata": {},
   "source": [
    "Now the index of the my_port_mtl dataframe is also in the period format."
   ]
  },
  {
   "cell_type": "code",
   "execution_count": 679,
   "metadata": {
    "scrolled": true
   },
   "outputs": [
    {
     "data": {
      "text/plain": [
       "PeriodIndex(['2016-03', '2016-04', '2016-05', '2016-06', '2016-07', '2016-08',\n",
       "             '2016-09', '2016-10', '2016-11', '2016-12', '2017-01', '2017-02',\n",
       "             '2017-03', '2017-04', '2017-05', '2017-06', '2017-07', '2017-08',\n",
       "             '2017-09', '2017-10', '2017-11', '2017-12', '2018-01', '2018-02',\n",
       "             '2018-03', '2018-04', '2018-05', '2018-06', '2018-07', '2018-08',\n",
       "             '2018-09', '2018-10', '2018-11', '2018-12', '2019-01', '2019-02',\n",
       "             '2019-03', '2019-04', '2019-05', '2019-06', '2019-07', '2019-08',\n",
       "             '2019-09', '2019-10', '2019-11', '2019-12', '2020-01', '2020-02',\n",
       "             '2020-03', '2020-04', '2020-05', '2020-06', '2020-07', '2020-08',\n",
       "             '2020-09', '2020-10', '2020-11', '2020-12', '2021-01', '2021-02',\n",
       "             '2021-03'],\n",
       "            dtype='period[M]', name='Date', freq='M')"
      ]
     },
     "execution_count": 679,
     "metadata": {},
     "output_type": "execute_result"
    }
   ],
   "source": [
    "my_port_mtl.index"
   ]
  },
  {
   "cell_type": "markdown",
   "metadata": {},
   "source": [
    "We are now going to combine both datasets into a single dataframe, since that makes it easier to prepare the data and run the regression analysis.\n",
    "\n",
    "The `pd.merge()` function can be used to combine the data. There are other ways, how we could have combined the data, but merging them on the Date column is the preferred way. A merge will combine data from two datasets by using the values in a specific column to match the observations from both datasets. This column needs to have unique values for each row in the data, so that it can be used to identify the rows.\n",
    "\n",
    "We pass 4 arguments to the `pd.merge()` function:\n",
    "1. `my_port_mtl`: The dataframe to be added first.\n",
    "2. `ff_data`: The dataframe that will be added next.\n",
    "3. `on='Date'`: with the on parameter we can tell the function which column should be used to match the data from both datasets. We pass the Date column, since it has a unique value for each month over the whole time period in both datasets.\n",
    "4. `indicator=True`: By setting the indicator to True, the combined dataframe will have another column called _merge which tells us whether data has been merged correclty for each month."
   ]
  },
  {
   "cell_type": "code",
   "execution_count": 695,
   "metadata": {},
   "outputs": [],
   "source": [
    "ff_merge = pd.merge(my_port_mtl, ff_data, on='Date', indicator=True)"
   ]
  },
  {
   "cell_type": "markdown",
   "metadata": {},
   "source": [
    "We now have a dataframe that combines both our portfolio returns and the Fama French data."
   ]
  },
  {
   "cell_type": "code",
   "execution_count": 697,
   "metadata": {
    "scrolled": true
   },
   "outputs": [
    {
     "data": {
      "text/html": [
       "<div>\n",
       "<style scoped>\n",
       "    .dataframe tbody tr th:only-of-type {\n",
       "        vertical-align: middle;\n",
       "    }\n",
       "\n",
       "    .dataframe tbody tr th {\n",
       "        vertical-align: top;\n",
       "    }\n",
       "\n",
       "    .dataframe thead th {\n",
       "        text-align: right;\n",
       "    }\n",
       "</style>\n",
       "<table border=\"1\" class=\"dataframe\">\n",
       "  <thead>\n",
       "    <tr style=\"text-align: right;\">\n",
       "      <th></th>\n",
       "      <th>my_port</th>\n",
       "      <th>Mkt-RF</th>\n",
       "      <th>SMB</th>\n",
       "      <th>HML</th>\n",
       "      <th>RF</th>\n",
       "      <th>_merge</th>\n",
       "    </tr>\n",
       "    <tr>\n",
       "      <th>Date</th>\n",
       "      <th></th>\n",
       "      <th></th>\n",
       "      <th></th>\n",
       "      <th></th>\n",
       "      <th></th>\n",
       "      <th></th>\n",
       "    </tr>\n",
       "  </thead>\n",
       "  <tbody>\n",
       "    <tr>\n",
       "      <th>2016-03</th>\n",
       "      <td>0.029692</td>\n",
       "      <td>6.96</td>\n",
       "      <td>0.82</td>\n",
       "      <td>1.11</td>\n",
       "      <td>0.02</td>\n",
       "      <td>both</td>\n",
       "    </tr>\n",
       "    <tr>\n",
       "      <th>2016-04</th>\n",
       "      <td>-0.023874</td>\n",
       "      <td>0.92</td>\n",
       "      <td>0.69</td>\n",
       "      <td>3.28</td>\n",
       "      <td>0.01</td>\n",
       "      <td>both</td>\n",
       "    </tr>\n",
       "    <tr>\n",
       "      <th>2016-05</th>\n",
       "      <td>0.039150</td>\n",
       "      <td>1.78</td>\n",
       "      <td>-0.27</td>\n",
       "      <td>-1.60</td>\n",
       "      <td>0.01</td>\n",
       "      <td>both</td>\n",
       "    </tr>\n",
       "    <tr>\n",
       "      <th>2016-06</th>\n",
       "      <td>-0.032974</td>\n",
       "      <td>-0.05</td>\n",
       "      <td>0.64</td>\n",
       "      <td>-1.40</td>\n",
       "      <td>0.02</td>\n",
       "      <td>both</td>\n",
       "    </tr>\n",
       "    <tr>\n",
       "      <th>2016-07</th>\n",
       "      <td>0.093832</td>\n",
       "      <td>3.95</td>\n",
       "      <td>2.60</td>\n",
       "      <td>-1.23</td>\n",
       "      <td>0.02</td>\n",
       "      <td>both</td>\n",
       "    </tr>\n",
       "    <tr>\n",
       "      <th>2016-08</th>\n",
       "      <td>-0.010268</td>\n",
       "      <td>0.50</td>\n",
       "      <td>1.13</td>\n",
       "      <td>3.31</td>\n",
       "      <td>0.02</td>\n",
       "      <td>both</td>\n",
       "    </tr>\n",
       "    <tr>\n",
       "      <th>2016-09</th>\n",
       "      <td>0.023680</td>\n",
       "      <td>0.25</td>\n",
       "      <td>2.04</td>\n",
       "      <td>-1.21</td>\n",
       "      <td>0.02</td>\n",
       "      <td>both</td>\n",
       "    </tr>\n",
       "    <tr>\n",
       "      <th>2016-10</th>\n",
       "      <td>-0.003854</td>\n",
       "      <td>-2.02</td>\n",
       "      <td>-4.43</td>\n",
       "      <td>4.07</td>\n",
       "      <td>0.02</td>\n",
       "      <td>both</td>\n",
       "    </tr>\n",
       "    <tr>\n",
       "      <th>2016-11</th>\n",
       "      <td>-0.023323</td>\n",
       "      <td>4.86</td>\n",
       "      <td>5.47</td>\n",
       "      <td>8.22</td>\n",
       "      <td>0.01</td>\n",
       "      <td>both</td>\n",
       "    </tr>\n",
       "    <tr>\n",
       "      <th>2016-12</th>\n",
       "      <td>0.050057</td>\n",
       "      <td>1.81</td>\n",
       "      <td>0.11</td>\n",
       "      <td>3.51</td>\n",
       "      <td>0.03</td>\n",
       "      <td>both</td>\n",
       "    </tr>\n",
       "    <tr>\n",
       "      <th>2017-01</th>\n",
       "      <td>0.090394</td>\n",
       "      <td>1.94</td>\n",
       "      <td>-1.06</td>\n",
       "      <td>-2.81</td>\n",
       "      <td>0.04</td>\n",
       "      <td>both</td>\n",
       "    </tr>\n",
       "    <tr>\n",
       "      <th>2017-02</th>\n",
       "      <td>0.029627</td>\n",
       "      <td>3.57</td>\n",
       "      <td>-2.01</td>\n",
       "      <td>-1.79</td>\n",
       "      <td>0.04</td>\n",
       "      <td>both</td>\n",
       "    </tr>\n",
       "    <tr>\n",
       "      <th>2017-03</th>\n",
       "      <td>0.058785</td>\n",
       "      <td>0.17</td>\n",
       "      <td>1.17</td>\n",
       "      <td>-3.33</td>\n",
       "      <td>0.03</td>\n",
       "      <td>both</td>\n",
       "    </tr>\n",
       "    <tr>\n",
       "      <th>2017-04</th>\n",
       "      <td>0.055529</td>\n",
       "      <td>1.09</td>\n",
       "      <td>0.72</td>\n",
       "      <td>-2.11</td>\n",
       "      <td>0.05</td>\n",
       "      <td>both</td>\n",
       "    </tr>\n",
       "    <tr>\n",
       "      <th>2017-05</th>\n",
       "      <td>0.060455</td>\n",
       "      <td>1.06</td>\n",
       "      <td>-2.61</td>\n",
       "      <td>-3.67</td>\n",
       "      <td>0.06</td>\n",
       "      <td>both</td>\n",
       "    </tr>\n",
       "    <tr>\n",
       "      <th>2017-06</th>\n",
       "      <td>-0.006821</td>\n",
       "      <td>0.78</td>\n",
       "      <td>2.15</td>\n",
       "      <td>1.45</td>\n",
       "      <td>0.06</td>\n",
       "      <td>both</td>\n",
       "    </tr>\n",
       "    <tr>\n",
       "      <th>2017-07</th>\n",
       "      <td>0.005280</td>\n",
       "      <td>1.87</td>\n",
       "      <td>-1.47</td>\n",
       "      <td>-0.36</td>\n",
       "      <td>0.07</td>\n",
       "      <td>both</td>\n",
       "    </tr>\n",
       "    <tr>\n",
       "      <th>2017-08</th>\n",
       "      <td>0.054888</td>\n",
       "      <td>0.16</td>\n",
       "      <td>-1.62</td>\n",
       "      <td>-2.19</td>\n",
       "      <td>0.09</td>\n",
       "      <td>both</td>\n",
       "    </tr>\n",
       "    <tr>\n",
       "      <th>2017-09</th>\n",
       "      <td>-0.026516</td>\n",
       "      <td>2.51</td>\n",
       "      <td>4.47</td>\n",
       "      <td>3.14</td>\n",
       "      <td>0.09</td>\n",
       "      <td>both</td>\n",
       "    </tr>\n",
       "    <tr>\n",
       "      <th>2017-10</th>\n",
       "      <td>0.082753</td>\n",
       "      <td>2.25</td>\n",
       "      <td>-1.95</td>\n",
       "      <td>0.12</td>\n",
       "      <td>0.09</td>\n",
       "      <td>both</td>\n",
       "    </tr>\n",
       "    <tr>\n",
       "      <th>2017-11</th>\n",
       "      <td>0.005824</td>\n",
       "      <td>3.12</td>\n",
       "      <td>-0.58</td>\n",
       "      <td>-0.09</td>\n",
       "      <td>0.08</td>\n",
       "      <td>both</td>\n",
       "    </tr>\n",
       "    <tr>\n",
       "      <th>2017-12</th>\n",
       "      <td>0.003749</td>\n",
       "      <td>1.06</td>\n",
       "      <td>-1.29</td>\n",
       "      <td>0.17</td>\n",
       "      <td>0.09</td>\n",
       "      <td>both</td>\n",
       "    </tr>\n",
       "    <tr>\n",
       "      <th>2018-01</th>\n",
       "      <td>0.120949</td>\n",
       "      <td>5.58</td>\n",
       "      <td>-3.09</td>\n",
       "      <td>-1.32</td>\n",
       "      <td>0.11</td>\n",
       "      <td>both</td>\n",
       "    </tr>\n",
       "    <tr>\n",
       "      <th>2018-02</th>\n",
       "      <td>0.012196</td>\n",
       "      <td>-3.65</td>\n",
       "      <td>0.30</td>\n",
       "      <td>-1.01</td>\n",
       "      <td>0.11</td>\n",
       "      <td>both</td>\n",
       "    </tr>\n",
       "    <tr>\n",
       "      <th>2018-03</th>\n",
       "      <td>-0.088479</td>\n",
       "      <td>-2.35</td>\n",
       "      <td>4.05</td>\n",
       "      <td>-0.12</td>\n",
       "      <td>0.12</td>\n",
       "      <td>both</td>\n",
       "    </tr>\n",
       "    <tr>\n",
       "      <th>2018-04</th>\n",
       "      <td>0.051897</td>\n",
       "      <td>0.29</td>\n",
       "      <td>1.13</td>\n",
       "      <td>0.50</td>\n",
       "      <td>0.14</td>\n",
       "      <td>both</td>\n",
       "    </tr>\n",
       "    <tr>\n",
       "      <th>2018-05</th>\n",
       "      <td>0.049596</td>\n",
       "      <td>2.65</td>\n",
       "      <td>5.28</td>\n",
       "      <td>-3.15</td>\n",
       "      <td>0.14</td>\n",
       "      <td>both</td>\n",
       "    </tr>\n",
       "    <tr>\n",
       "      <th>2018-06</th>\n",
       "      <td>0.057219</td>\n",
       "      <td>0.48</td>\n",
       "      <td>1.19</td>\n",
       "      <td>-2.31</td>\n",
       "      <td>0.14</td>\n",
       "      <td>both</td>\n",
       "    </tr>\n",
       "    <tr>\n",
       "      <th>2018-07</th>\n",
       "      <td>0.002144</td>\n",
       "      <td>3.19</td>\n",
       "      <td>-2.21</td>\n",
       "      <td>0.57</td>\n",
       "      <td>0.16</td>\n",
       "      <td>both</td>\n",
       "    </tr>\n",
       "    <tr>\n",
       "      <th>2018-08</th>\n",
       "      <td>0.094261</td>\n",
       "      <td>3.44</td>\n",
       "      <td>1.15</td>\n",
       "      <td>-3.92</td>\n",
       "      <td>0.16</td>\n",
       "      <td>both</td>\n",
       "    </tr>\n",
       "    <tr>\n",
       "      <th>2018-09</th>\n",
       "      <td>-0.025614</td>\n",
       "      <td>0.06</td>\n",
       "      <td>-2.28</td>\n",
       "      <td>-1.63</td>\n",
       "      <td>0.15</td>\n",
       "      <td>both</td>\n",
       "    </tr>\n",
       "    <tr>\n",
       "      <th>2018-10</th>\n",
       "      <td>-0.012596</td>\n",
       "      <td>-7.68</td>\n",
       "      <td>-4.78</td>\n",
       "      <td>3.46</td>\n",
       "      <td>0.19</td>\n",
       "      <td>both</td>\n",
       "    </tr>\n",
       "    <tr>\n",
       "      <th>2018-11</th>\n",
       "      <td>-0.003604</td>\n",
       "      <td>1.69</td>\n",
       "      <td>-0.71</td>\n",
       "      <td>0.34</td>\n",
       "      <td>0.18</td>\n",
       "      <td>both</td>\n",
       "    </tr>\n",
       "    <tr>\n",
       "      <th>2018-12</th>\n",
       "      <td>-0.085587</td>\n",
       "      <td>-9.55</td>\n",
       "      <td>-2.48</td>\n",
       "      <td>-1.89</td>\n",
       "      <td>0.19</td>\n",
       "      <td>both</td>\n",
       "    </tr>\n",
       "    <tr>\n",
       "      <th>2019-01</th>\n",
       "      <td>0.040031</td>\n",
       "      <td>8.41</td>\n",
       "      <td>2.89</td>\n",
       "      <td>-0.46</td>\n",
       "      <td>0.21</td>\n",
       "      <td>both</td>\n",
       "    </tr>\n",
       "    <tr>\n",
       "      <th>2019-02</th>\n",
       "      <td>0.033404</td>\n",
       "      <td>3.40</td>\n",
       "      <td>2.12</td>\n",
       "      <td>-2.71</td>\n",
       "      <td>0.18</td>\n",
       "      <td>both</td>\n",
       "    </tr>\n",
       "    <tr>\n",
       "      <th>2019-03</th>\n",
       "      <td>0.022090</td>\n",
       "      <td>1.10</td>\n",
       "      <td>-3.05</td>\n",
       "      <td>-4.19</td>\n",
       "      <td>0.19</td>\n",
       "      <td>both</td>\n",
       "    </tr>\n",
       "    <tr>\n",
       "      <th>2019-04</th>\n",
       "      <td>0.026270</td>\n",
       "      <td>3.96</td>\n",
       "      <td>-1.75</td>\n",
       "      <td>2.02</td>\n",
       "      <td>0.21</td>\n",
       "      <td>both</td>\n",
       "    </tr>\n",
       "    <tr>\n",
       "      <th>2019-05</th>\n",
       "      <td>-0.115083</td>\n",
       "      <td>-6.94</td>\n",
       "      <td>-1.18</td>\n",
       "      <td>-2.28</td>\n",
       "      <td>0.21</td>\n",
       "      <td>both</td>\n",
       "    </tr>\n",
       "    <tr>\n",
       "      <th>2019-06</th>\n",
       "      <td>0.119086</td>\n",
       "      <td>6.93</td>\n",
       "      <td>0.22</td>\n",
       "      <td>-0.79</td>\n",
       "      <td>0.18</td>\n",
       "      <td>both</td>\n",
       "    </tr>\n",
       "    <tr>\n",
       "      <th>2019-07</th>\n",
       "      <td>0.039347</td>\n",
       "      <td>1.19</td>\n",
       "      <td>-2.08</td>\n",
       "      <td>0.34</td>\n",
       "      <td>0.19</td>\n",
       "      <td>both</td>\n",
       "    </tr>\n",
       "    <tr>\n",
       "      <th>2019-08</th>\n",
       "      <td>-0.026614</td>\n",
       "      <td>-2.58</td>\n",
       "      <td>-2.40</td>\n",
       "      <td>-4.85</td>\n",
       "      <td>0.16</td>\n",
       "      <td>both</td>\n",
       "    </tr>\n",
       "    <tr>\n",
       "      <th>2019-09</th>\n",
       "      <td>0.028081</td>\n",
       "      <td>1.43</td>\n",
       "      <td>-1.05</td>\n",
       "      <td>6.77</td>\n",
       "      <td>0.18</td>\n",
       "      <td>both</td>\n",
       "    </tr>\n",
       "    <tr>\n",
       "      <th>2019-10</th>\n",
       "      <td>0.113363</td>\n",
       "      <td>2.06</td>\n",
       "      <td>0.24</td>\n",
       "      <td>-1.88</td>\n",
       "      <td>0.15</td>\n",
       "      <td>both</td>\n",
       "    </tr>\n",
       "    <tr>\n",
       "      <th>2019-11</th>\n",
       "      <td>0.051021</td>\n",
       "      <td>3.87</td>\n",
       "      <td>0.91</td>\n",
       "      <td>-2.05</td>\n",
       "      <td>0.12</td>\n",
       "      <td>both</td>\n",
       "    </tr>\n",
       "    <tr>\n",
       "      <th>2019-12</th>\n",
       "      <td>0.101873</td>\n",
       "      <td>2.77</td>\n",
       "      <td>0.67</td>\n",
       "      <td>1.91</td>\n",
       "      <td>0.14</td>\n",
       "      <td>both</td>\n",
       "    </tr>\n",
       "    <tr>\n",
       "      <th>2020-01</th>\n",
       "      <td>0.180000</td>\n",
       "      <td>-0.11</td>\n",
       "      <td>-3.08</td>\n",
       "      <td>-6.27</td>\n",
       "      <td>0.13</td>\n",
       "      <td>both</td>\n",
       "    </tr>\n",
       "    <tr>\n",
       "      <th>2020-02</th>\n",
       "      <td>-0.036200</td>\n",
       "      <td>-8.13</td>\n",
       "      <td>1.02</td>\n",
       "      <td>-3.92</td>\n",
       "      <td>0.12</td>\n",
       "      <td>both</td>\n",
       "    </tr>\n",
       "    <tr>\n",
       "      <th>2020-03</th>\n",
       "      <td>-0.062401</td>\n",
       "      <td>-13.38</td>\n",
       "      <td>-5.03</td>\n",
       "      <td>-13.96</td>\n",
       "      <td>0.12</td>\n",
       "      <td>both</td>\n",
       "    </tr>\n",
       "    <tr>\n",
       "      <th>2020-04</th>\n",
       "      <td>0.257530</td>\n",
       "      <td>13.65</td>\n",
       "      <td>2.75</td>\n",
       "      <td>-1.39</td>\n",
       "      <td>0.00</td>\n",
       "      <td>both</td>\n",
       "    </tr>\n",
       "    <tr>\n",
       "      <th>2020-05</th>\n",
       "      <td>0.041989</td>\n",
       "      <td>5.58</td>\n",
       "      <td>2.49</td>\n",
       "      <td>-5.05</td>\n",
       "      <td>0.01</td>\n",
       "      <td>both</td>\n",
       "    </tr>\n",
       "    <tr>\n",
       "      <th>2020-06</th>\n",
       "      <td>0.164691</td>\n",
       "      <td>2.46</td>\n",
       "      <td>2.71</td>\n",
       "      <td>-2.35</td>\n",
       "      <td>0.01</td>\n",
       "      <td>both</td>\n",
       "    </tr>\n",
       "    <tr>\n",
       "      <th>2020-07</th>\n",
       "      <td>0.149764</td>\n",
       "      <td>5.77</td>\n",
       "      <td>-2.18</td>\n",
       "      <td>-1.39</td>\n",
       "      <td>0.01</td>\n",
       "      <td>both</td>\n",
       "    </tr>\n",
       "    <tr>\n",
       "      <th>2020-08</th>\n",
       "      <td>0.262699</td>\n",
       "      <td>7.63</td>\n",
       "      <td>-0.25</td>\n",
       "      <td>-2.94</td>\n",
       "      <td>0.01</td>\n",
       "      <td>both</td>\n",
       "    </tr>\n",
       "    <tr>\n",
       "      <th>2020-09</th>\n",
       "      <td>-0.089874</td>\n",
       "      <td>-3.63</td>\n",
       "      <td>0.06</td>\n",
       "      <td>-2.51</td>\n",
       "      <td>0.01</td>\n",
       "      <td>both</td>\n",
       "    </tr>\n",
       "    <tr>\n",
       "      <th>2020-10</th>\n",
       "      <td>-0.053384</td>\n",
       "      <td>-2.10</td>\n",
       "      <td>4.44</td>\n",
       "      <td>4.03</td>\n",
       "      <td>0.01</td>\n",
       "      <td>both</td>\n",
       "    </tr>\n",
       "    <tr>\n",
       "      <th>2020-11</th>\n",
       "      <td>0.155338</td>\n",
       "      <td>12.47</td>\n",
       "      <td>5.48</td>\n",
       "      <td>2.11</td>\n",
       "      <td>0.01</td>\n",
       "      <td>both</td>\n",
       "    </tr>\n",
       "    <tr>\n",
       "      <th>2020-12</th>\n",
       "      <td>0.101508</td>\n",
       "      <td>4.63</td>\n",
       "      <td>4.81</td>\n",
       "      <td>-1.36</td>\n",
       "      <td>0.01</td>\n",
       "      <td>both</td>\n",
       "    </tr>\n",
       "    <tr>\n",
       "      <th>2021-01</th>\n",
       "      <td>0.040477</td>\n",
       "      <td>-0.04</td>\n",
       "      <td>7.18</td>\n",
       "      <td>2.85</td>\n",
       "      <td>0.00</td>\n",
       "      <td>both</td>\n",
       "    </tr>\n",
       "  </tbody>\n",
       "</table>\n",
       "</div>"
      ],
      "text/plain": [
       "          my_port  Mkt-RF   SMB    HML    RF _merge\n",
       "Date                                               \n",
       "2016-03  0.029692    6.96  0.82   1.11  0.02   both\n",
       "2016-04 -0.023874    0.92  0.69   3.28  0.01   both\n",
       "2016-05  0.039150    1.78 -0.27  -1.60  0.01   both\n",
       "2016-06 -0.032974   -0.05  0.64  -1.40  0.02   both\n",
       "2016-07  0.093832    3.95  2.60  -1.23  0.02   both\n",
       "2016-08 -0.010268    0.50  1.13   3.31  0.02   both\n",
       "2016-09  0.023680    0.25  2.04  -1.21  0.02   both\n",
       "2016-10 -0.003854   -2.02 -4.43   4.07  0.02   both\n",
       "2016-11 -0.023323    4.86  5.47   8.22  0.01   both\n",
       "2016-12  0.050057    1.81  0.11   3.51  0.03   both\n",
       "2017-01  0.090394    1.94 -1.06  -2.81  0.04   both\n",
       "2017-02  0.029627    3.57 -2.01  -1.79  0.04   both\n",
       "2017-03  0.058785    0.17  1.17  -3.33  0.03   both\n",
       "2017-04  0.055529    1.09  0.72  -2.11  0.05   both\n",
       "2017-05  0.060455    1.06 -2.61  -3.67  0.06   both\n",
       "2017-06 -0.006821    0.78  2.15   1.45  0.06   both\n",
       "2017-07  0.005280    1.87 -1.47  -0.36  0.07   both\n",
       "2017-08  0.054888    0.16 -1.62  -2.19  0.09   both\n",
       "2017-09 -0.026516    2.51  4.47   3.14  0.09   both\n",
       "2017-10  0.082753    2.25 -1.95   0.12  0.09   both\n",
       "2017-11  0.005824    3.12 -0.58  -0.09  0.08   both\n",
       "2017-12  0.003749    1.06 -1.29   0.17  0.09   both\n",
       "2018-01  0.120949    5.58 -3.09  -1.32  0.11   both\n",
       "2018-02  0.012196   -3.65  0.30  -1.01  0.11   both\n",
       "2018-03 -0.088479   -2.35  4.05  -0.12  0.12   both\n",
       "2018-04  0.051897    0.29  1.13   0.50  0.14   both\n",
       "2018-05  0.049596    2.65  5.28  -3.15  0.14   both\n",
       "2018-06  0.057219    0.48  1.19  -2.31  0.14   both\n",
       "2018-07  0.002144    3.19 -2.21   0.57  0.16   both\n",
       "2018-08  0.094261    3.44  1.15  -3.92  0.16   both\n",
       "2018-09 -0.025614    0.06 -2.28  -1.63  0.15   both\n",
       "2018-10 -0.012596   -7.68 -4.78   3.46  0.19   both\n",
       "2018-11 -0.003604    1.69 -0.71   0.34  0.18   both\n",
       "2018-12 -0.085587   -9.55 -2.48  -1.89  0.19   both\n",
       "2019-01  0.040031    8.41  2.89  -0.46  0.21   both\n",
       "2019-02  0.033404    3.40  2.12  -2.71  0.18   both\n",
       "2019-03  0.022090    1.10 -3.05  -4.19  0.19   both\n",
       "2019-04  0.026270    3.96 -1.75   2.02  0.21   both\n",
       "2019-05 -0.115083   -6.94 -1.18  -2.28  0.21   both\n",
       "2019-06  0.119086    6.93  0.22  -0.79  0.18   both\n",
       "2019-07  0.039347    1.19 -2.08   0.34  0.19   both\n",
       "2019-08 -0.026614   -2.58 -2.40  -4.85  0.16   both\n",
       "2019-09  0.028081    1.43 -1.05   6.77  0.18   both\n",
       "2019-10  0.113363    2.06  0.24  -1.88  0.15   both\n",
       "2019-11  0.051021    3.87  0.91  -2.05  0.12   both\n",
       "2019-12  0.101873    2.77  0.67   1.91  0.14   both\n",
       "2020-01  0.180000   -0.11 -3.08  -6.27  0.13   both\n",
       "2020-02 -0.036200   -8.13  1.02  -3.92  0.12   both\n",
       "2020-03 -0.062401  -13.38 -5.03 -13.96  0.12   both\n",
       "2020-04  0.257530   13.65  2.75  -1.39  0.00   both\n",
       "2020-05  0.041989    5.58  2.49  -5.05  0.01   both\n",
       "2020-06  0.164691    2.46  2.71  -2.35  0.01   both\n",
       "2020-07  0.149764    5.77 -2.18  -1.39  0.01   both\n",
       "2020-08  0.262699    7.63 -0.25  -2.94  0.01   both\n",
       "2020-09 -0.089874   -3.63  0.06  -2.51  0.01   both\n",
       "2020-10 -0.053384   -2.10  4.44   4.03  0.01   both\n",
       "2020-11  0.155338   12.47  5.48   2.11  0.01   both\n",
       "2020-12  0.101508    4.63  4.81  -1.36  0.01   both\n",
       "2021-01  0.040477   -0.04  7.18   2.85  0.00   both"
      ]
     },
     "execution_count": 697,
     "metadata": {},
     "output_type": "execute_result"
    }
   ],
   "source": [
    "ff_merge"
   ]
  },
  {
   "cell_type": "markdown",
   "metadata": {},
   "source": [
    "Let us check that the data has been merged correctly for each month. The _merge column should have the value 'both' in each row. We can check this, by using the np.all() function, which tests whether all values are True.\n",
    "\n",
    "With the conditional statement `ff_merge['_merge'] == 'both'`, we test whether the values in the _merge column are equal to 'both', which returns a boolean array. If all values in the boolean array are True, the np.all() function will return True. If there were one or more False values, the np.all() function would return False.\n",
    "\n",
    "We can see that all values are equal to 'both', which means for each month we could merge data from our portfolio returns with the Fama French data."
   ]
  },
  {
   "cell_type": "code",
   "execution_count": 699,
   "metadata": {
    "scrolled": false
   },
   "outputs": [
    {
     "data": {
      "text/plain": [
       "True"
      ]
     },
     "execution_count": 699,
     "metadata": {},
     "output_type": "execute_result"
    }
   ],
   "source": [
    "np.all(ff_merge['_merge'] == 'both')"
   ]
  },
  {
   "cell_type": "markdown",
   "metadata": {},
   "source": [
    "Let us remove the _merge column"
   ]
  },
  {
   "cell_type": "markdown",
   "metadata": {},
   "source": [
    "We have a few more steps to carry out on the data before we can run the regression. First, we are going to remove the merge column, since we don't need it anymore."
   ]
  },
  {
   "cell_type": "code",
   "execution_count": 703,
   "metadata": {},
   "outputs": [],
   "source": [
    "ff_merge = ff_merge.drop(columns='_merge')"
   ]
  },
  {
   "cell_type": "markdown",
   "metadata": {},
   "source": [
    "Looking at the data, we see, that the return values in the Fama French columns are in percentage and not in decimal format. We have to devide those columns by 100."
   ]
  },
  {
   "cell_type": "code",
   "execution_count": 704,
   "metadata": {},
   "outputs": [
    {
     "data": {
      "text/html": [
       "<div>\n",
       "<style scoped>\n",
       "    .dataframe tbody tr th:only-of-type {\n",
       "        vertical-align: middle;\n",
       "    }\n",
       "\n",
       "    .dataframe tbody tr th {\n",
       "        vertical-align: top;\n",
       "    }\n",
       "\n",
       "    .dataframe thead th {\n",
       "        text-align: right;\n",
       "    }\n",
       "</style>\n",
       "<table border=\"1\" class=\"dataframe\">\n",
       "  <thead>\n",
       "    <tr style=\"text-align: right;\">\n",
       "      <th></th>\n",
       "      <th>my_port</th>\n",
       "      <th>Mkt-RF</th>\n",
       "      <th>SMB</th>\n",
       "      <th>HML</th>\n",
       "      <th>RF</th>\n",
       "    </tr>\n",
       "    <tr>\n",
       "      <th>Date</th>\n",
       "      <th></th>\n",
       "      <th></th>\n",
       "      <th></th>\n",
       "      <th></th>\n",
       "      <th></th>\n",
       "    </tr>\n",
       "  </thead>\n",
       "  <tbody>\n",
       "    <tr>\n",
       "      <th>2016-03</th>\n",
       "      <td>0.029692</td>\n",
       "      <td>6.96</td>\n",
       "      <td>0.82</td>\n",
       "      <td>1.11</td>\n",
       "      <td>0.02</td>\n",
       "    </tr>\n",
       "    <tr>\n",
       "      <th>2016-04</th>\n",
       "      <td>-0.023874</td>\n",
       "      <td>0.92</td>\n",
       "      <td>0.69</td>\n",
       "      <td>3.28</td>\n",
       "      <td>0.01</td>\n",
       "    </tr>\n",
       "    <tr>\n",
       "      <th>2016-05</th>\n",
       "      <td>0.039150</td>\n",
       "      <td>1.78</td>\n",
       "      <td>-0.27</td>\n",
       "      <td>-1.60</td>\n",
       "      <td>0.01</td>\n",
       "    </tr>\n",
       "    <tr>\n",
       "      <th>2016-06</th>\n",
       "      <td>-0.032974</td>\n",
       "      <td>-0.05</td>\n",
       "      <td>0.64</td>\n",
       "      <td>-1.40</td>\n",
       "      <td>0.02</td>\n",
       "    </tr>\n",
       "    <tr>\n",
       "      <th>2016-07</th>\n",
       "      <td>0.093832</td>\n",
       "      <td>3.95</td>\n",
       "      <td>2.60</td>\n",
       "      <td>-1.23</td>\n",
       "      <td>0.02</td>\n",
       "    </tr>\n",
       "  </tbody>\n",
       "</table>\n",
       "</div>"
      ],
      "text/plain": [
       "          my_port  Mkt-RF   SMB   HML    RF\n",
       "Date                                       \n",
       "2016-03  0.029692    6.96  0.82  1.11  0.02\n",
       "2016-04 -0.023874    0.92  0.69  3.28  0.01\n",
       "2016-05  0.039150    1.78 -0.27 -1.60  0.01\n",
       "2016-06 -0.032974   -0.05  0.64 -1.40  0.02\n",
       "2016-07  0.093832    3.95  2.60 -1.23  0.02"
      ]
     },
     "execution_count": 704,
     "metadata": {},
     "output_type": "execute_result"
    }
   ],
   "source": [
    "ff_merge.head()"
   ]
  },
  {
   "cell_type": "markdown",
   "metadata": {},
   "source": [
    "We can use the /= operator, which devides by the value following the equal sign and then reassigns to the same variables."
   ]
  },
  {
   "cell_type": "code",
   "execution_count": null,
   "metadata": {},
   "outputs": [],
   "source": [
    "ff_merge[['Mkt-RF', 'SMB', 'HML']] /= 100"
   ]
  },
  {
   "cell_type": "code",
   "execution_count": 707,
   "metadata": {
    "scrolled": true
   },
   "outputs": [
    {
     "data": {
      "text/html": [
       "<div>\n",
       "<style scoped>\n",
       "    .dataframe tbody tr th:only-of-type {\n",
       "        vertical-align: middle;\n",
       "    }\n",
       "\n",
       "    .dataframe tbody tr th {\n",
       "        vertical-align: top;\n",
       "    }\n",
       "\n",
       "    .dataframe thead th {\n",
       "        text-align: right;\n",
       "    }\n",
       "</style>\n",
       "<table border=\"1\" class=\"dataframe\">\n",
       "  <thead>\n",
       "    <tr style=\"text-align: right;\">\n",
       "      <th></th>\n",
       "      <th>my_port</th>\n",
       "      <th>Mkt-RF</th>\n",
       "      <th>SMB</th>\n",
       "      <th>HML</th>\n",
       "      <th>RF</th>\n",
       "    </tr>\n",
       "    <tr>\n",
       "      <th>Date</th>\n",
       "      <th></th>\n",
       "      <th></th>\n",
       "      <th></th>\n",
       "      <th></th>\n",
       "      <th></th>\n",
       "    </tr>\n",
       "  </thead>\n",
       "  <tbody>\n",
       "    <tr>\n",
       "      <th>2016-03</th>\n",
       "      <td>0.029692</td>\n",
       "      <td>0.0696</td>\n",
       "      <td>0.0082</td>\n",
       "      <td>0.0111</td>\n",
       "      <td>0.02</td>\n",
       "    </tr>\n",
       "    <tr>\n",
       "      <th>2016-04</th>\n",
       "      <td>-0.023874</td>\n",
       "      <td>0.0092</td>\n",
       "      <td>0.0069</td>\n",
       "      <td>0.0328</td>\n",
       "      <td>0.01</td>\n",
       "    </tr>\n",
       "    <tr>\n",
       "      <th>2016-05</th>\n",
       "      <td>0.039150</td>\n",
       "      <td>0.0178</td>\n",
       "      <td>-0.0027</td>\n",
       "      <td>-0.0160</td>\n",
       "      <td>0.01</td>\n",
       "    </tr>\n",
       "    <tr>\n",
       "      <th>2016-06</th>\n",
       "      <td>-0.032974</td>\n",
       "      <td>-0.0005</td>\n",
       "      <td>0.0064</td>\n",
       "      <td>-0.0140</td>\n",
       "      <td>0.02</td>\n",
       "    </tr>\n",
       "    <tr>\n",
       "      <th>2016-07</th>\n",
       "      <td>0.093832</td>\n",
       "      <td>0.0395</td>\n",
       "      <td>0.0260</td>\n",
       "      <td>-0.0123</td>\n",
       "      <td>0.02</td>\n",
       "    </tr>\n",
       "  </tbody>\n",
       "</table>\n",
       "</div>"
      ],
      "text/plain": [
       "          my_port  Mkt-RF     SMB     HML    RF\n",
       "Date                                           \n",
       "2016-03  0.029692  0.0696  0.0082  0.0111  0.02\n",
       "2016-04 -0.023874  0.0092  0.0069  0.0328  0.01\n",
       "2016-05  0.039150  0.0178 -0.0027 -0.0160  0.01\n",
       "2016-06 -0.032974 -0.0005  0.0064 -0.0140  0.02\n",
       "2016-07  0.093832  0.0395  0.0260 -0.0123  0.02"
      ]
     },
     "execution_count": 707,
     "metadata": {},
     "output_type": "execute_result"
    }
   ],
   "source": [
    "ff_merge.head()"
   ]
  },
  {
   "cell_type": "markdown",
   "metadata": {},
   "source": [
    "The regression we will run will be using the excess portfolio returns as the dependent variable, that means, we will have to subtract the risk free rate from the portfolio returns."
   ]
  },
  {
   "cell_type": "code",
   "execution_count": 708,
   "metadata": {},
   "outputs": [],
   "source": [
    "ff_merge['my_port'] = ff_merge['my_port'] - ff_merge['RF']"
   ]
  },
  {
   "cell_type": "code",
   "execution_count": 709,
   "metadata": {},
   "outputs": [
    {
     "data": {
      "text/html": [
       "<div>\n",
       "<style scoped>\n",
       "    .dataframe tbody tr th:only-of-type {\n",
       "        vertical-align: middle;\n",
       "    }\n",
       "\n",
       "    .dataframe tbody tr th {\n",
       "        vertical-align: top;\n",
       "    }\n",
       "\n",
       "    .dataframe thead th {\n",
       "        text-align: right;\n",
       "    }\n",
       "</style>\n",
       "<table border=\"1\" class=\"dataframe\">\n",
       "  <thead>\n",
       "    <tr style=\"text-align: right;\">\n",
       "      <th></th>\n",
       "      <th>my_port</th>\n",
       "      <th>Mkt-RF</th>\n",
       "      <th>SMB</th>\n",
       "      <th>HML</th>\n",
       "      <th>RF</th>\n",
       "    </tr>\n",
       "    <tr>\n",
       "      <th>Date</th>\n",
       "      <th></th>\n",
       "      <th></th>\n",
       "      <th></th>\n",
       "      <th></th>\n",
       "      <th></th>\n",
       "    </tr>\n",
       "  </thead>\n",
       "  <tbody>\n",
       "    <tr>\n",
       "      <th>2016-03</th>\n",
       "      <td>0.009692</td>\n",
       "      <td>0.0696</td>\n",
       "      <td>0.0082</td>\n",
       "      <td>0.0111</td>\n",
       "      <td>0.02</td>\n",
       "    </tr>\n",
       "    <tr>\n",
       "      <th>2016-04</th>\n",
       "      <td>-0.033874</td>\n",
       "      <td>0.0092</td>\n",
       "      <td>0.0069</td>\n",
       "      <td>0.0328</td>\n",
       "      <td>0.01</td>\n",
       "    </tr>\n",
       "    <tr>\n",
       "      <th>2016-05</th>\n",
       "      <td>0.029150</td>\n",
       "      <td>0.0178</td>\n",
       "      <td>-0.0027</td>\n",
       "      <td>-0.0160</td>\n",
       "      <td>0.01</td>\n",
       "    </tr>\n",
       "    <tr>\n",
       "      <th>2016-06</th>\n",
       "      <td>-0.052974</td>\n",
       "      <td>-0.0005</td>\n",
       "      <td>0.0064</td>\n",
       "      <td>-0.0140</td>\n",
       "      <td>0.02</td>\n",
       "    </tr>\n",
       "    <tr>\n",
       "      <th>2016-07</th>\n",
       "      <td>0.073832</td>\n",
       "      <td>0.0395</td>\n",
       "      <td>0.0260</td>\n",
       "      <td>-0.0123</td>\n",
       "      <td>0.02</td>\n",
       "    </tr>\n",
       "  </tbody>\n",
       "</table>\n",
       "</div>"
      ],
      "text/plain": [
       "          my_port  Mkt-RF     SMB     HML    RF\n",
       "Date                                           \n",
       "2016-03  0.009692  0.0696  0.0082  0.0111  0.02\n",
       "2016-04 -0.033874  0.0092  0.0069  0.0328  0.01\n",
       "2016-05  0.029150  0.0178 -0.0027 -0.0160  0.01\n",
       "2016-06 -0.052974 -0.0005  0.0064 -0.0140  0.02\n",
       "2016-07  0.073832  0.0395  0.0260 -0.0123  0.02"
      ]
     },
     "execution_count": 709,
     "metadata": {},
     "output_type": "execute_result"
    }
   ],
   "source": [
    "ff_merge.head()"
   ]
  },
  {
   "cell_type": "markdown",
   "metadata": {},
   "source": [
    "#### Running the regression\n",
    "\n",
    "We will use the statsmodels.api library to run the regression analysis. First, we will add a constant to our dataframe using the sm.add_constant() function. We need a constant for the regression to also include an intercept."
   ]
  },
  {
   "cell_type": "code",
   "execution_count": 735,
   "metadata": {},
   "outputs": [],
   "source": [
    "ff_merge = sm.add_constant(ff_merge)"
   ]
  },
  {
   "cell_type": "markdown",
   "metadata": {},
   "source": [
    "A new column named const with the value 1.0 has been added to the dataframe."
   ]
  },
  {
   "cell_type": "code",
   "execution_count": 736,
   "metadata": {},
   "outputs": [
    {
     "data": {
      "text/html": [
       "<div>\n",
       "<style scoped>\n",
       "    .dataframe tbody tr th:only-of-type {\n",
       "        vertical-align: middle;\n",
       "    }\n",
       "\n",
       "    .dataframe tbody tr th {\n",
       "        vertical-align: top;\n",
       "    }\n",
       "\n",
       "    .dataframe thead th {\n",
       "        text-align: right;\n",
       "    }\n",
       "</style>\n",
       "<table border=\"1\" class=\"dataframe\">\n",
       "  <thead>\n",
       "    <tr style=\"text-align: right;\">\n",
       "      <th></th>\n",
       "      <th>const</th>\n",
       "      <th>my_port</th>\n",
       "      <th>Mkt-RF</th>\n",
       "      <th>SMB</th>\n",
       "      <th>HML</th>\n",
       "      <th>RF</th>\n",
       "    </tr>\n",
       "    <tr>\n",
       "      <th>Date</th>\n",
       "      <th></th>\n",
       "      <th></th>\n",
       "      <th></th>\n",
       "      <th></th>\n",
       "      <th></th>\n",
       "      <th></th>\n",
       "    </tr>\n",
       "  </thead>\n",
       "  <tbody>\n",
       "    <tr>\n",
       "      <th>2016-03</th>\n",
       "      <td>1.0</td>\n",
       "      <td>0.009692</td>\n",
       "      <td>0.0696</td>\n",
       "      <td>0.0082</td>\n",
       "      <td>0.0111</td>\n",
       "      <td>0.02</td>\n",
       "    </tr>\n",
       "    <tr>\n",
       "      <th>2016-04</th>\n",
       "      <td>1.0</td>\n",
       "      <td>-0.033874</td>\n",
       "      <td>0.0092</td>\n",
       "      <td>0.0069</td>\n",
       "      <td>0.0328</td>\n",
       "      <td>0.01</td>\n",
       "    </tr>\n",
       "    <tr>\n",
       "      <th>2016-05</th>\n",
       "      <td>1.0</td>\n",
       "      <td>0.029150</td>\n",
       "      <td>0.0178</td>\n",
       "      <td>-0.0027</td>\n",
       "      <td>-0.0160</td>\n",
       "      <td>0.01</td>\n",
       "    </tr>\n",
       "    <tr>\n",
       "      <th>2016-06</th>\n",
       "      <td>1.0</td>\n",
       "      <td>-0.052974</td>\n",
       "      <td>-0.0005</td>\n",
       "      <td>0.0064</td>\n",
       "      <td>-0.0140</td>\n",
       "      <td>0.02</td>\n",
       "    </tr>\n",
       "    <tr>\n",
       "      <th>2016-07</th>\n",
       "      <td>1.0</td>\n",
       "      <td>0.073832</td>\n",
       "      <td>0.0395</td>\n",
       "      <td>0.0260</td>\n",
       "      <td>-0.0123</td>\n",
       "      <td>0.02</td>\n",
       "    </tr>\n",
       "  </tbody>\n",
       "</table>\n",
       "</div>"
      ],
      "text/plain": [
       "         const   my_port  Mkt-RF     SMB     HML    RF\n",
       "Date                                                  \n",
       "2016-03    1.0  0.009692  0.0696  0.0082  0.0111  0.02\n",
       "2016-04    1.0 -0.033874  0.0092  0.0069  0.0328  0.01\n",
       "2016-05    1.0  0.029150  0.0178 -0.0027 -0.0160  0.01\n",
       "2016-06    1.0 -0.052974 -0.0005  0.0064 -0.0140  0.02\n",
       "2016-07    1.0  0.073832  0.0395  0.0260 -0.0123  0.02"
      ]
     },
     "execution_count": 736,
     "metadata": {},
     "output_type": "execute_result"
    }
   ],
   "source": [
    "ff_merge.head()"
   ]
  },
  {
   "cell_type": "markdown",
   "metadata": {},
   "source": [
    "To run the regression, we use the sm.OLS() function to create the model. The first parameter being passed to the OLS function is the outcome or dependent variable, which is the mY_port column. The second parameter is the list of predictors or independent variables, which is the constant, excess market return, the factor returns and the risk free rate.\n",
    "\n",
    "We can then run the summary() method on the results object to get a nice summary of the output."
   ]
  },
  {
   "cell_type": "code",
   "execution_count": 834,
   "metadata": {},
   "outputs": [
    {
     "data": {
      "text/html": [
       "<table class=\"simpletable\">\n",
       "<caption>OLS Regression Results</caption>\n",
       "<tr>\n",
       "  <th>Dep. Variable:</th>         <td>my_port</td>     <th>  R-squared:         </th> <td>   0.826</td>\n",
       "</tr>\n",
       "<tr>\n",
       "  <th>Model:</th>                   <td>OLS</td>       <th>  Adj. R-squared:    </th> <td>   0.814</td>\n",
       "</tr>\n",
       "<tr>\n",
       "  <th>Method:</th>             <td>Least Squares</td>  <th>  F-statistic:       </th> <td>   64.30</td>\n",
       "</tr>\n",
       "<tr>\n",
       "  <th>Date:</th>             <td>Fri, 19 Mar 2021</td> <th>  Prob (F-statistic):</th> <td>6.76e-20</td>\n",
       "</tr>\n",
       "<tr>\n",
       "  <th>Time:</th>                 <td>17:38:39</td>     <th>  Log-Likelihood:    </th> <td>  95.890</td>\n",
       "</tr>\n",
       "<tr>\n",
       "  <th>No. Observations:</th>      <td>    59</td>      <th>  AIC:               </th> <td>  -181.8</td>\n",
       "</tr>\n",
       "<tr>\n",
       "  <th>Df Residuals:</th>          <td>    54</td>      <th>  BIC:               </th> <td>  -171.4</td>\n",
       "</tr>\n",
       "<tr>\n",
       "  <th>Df Model:</th>              <td>     4</td>      <th>                     </th>     <td> </td>   \n",
       "</tr>\n",
       "<tr>\n",
       "  <th>Covariance Type:</th>      <td>nonrobust</td>    <th>                     </th>     <td> </td>   \n",
       "</tr>\n",
       "</table>\n",
       "<table class=\"simpletable\">\n",
       "<tr>\n",
       "     <td></td>       <th>coef</th>     <th>std err</th>      <th>t</th>      <th>P>|t|</th>  <th>[0.025</th>    <th>0.975]</th>  \n",
       "</tr>\n",
       "<tr>\n",
       "  <th>const</th>  <td>    0.0280</td> <td>    0.012</td> <td>    2.320</td> <td> 0.024</td> <td>    0.004</td> <td>    0.052</td>\n",
       "</tr>\n",
       "<tr>\n",
       "  <th>Mkt-RF</th> <td>    1.3226</td> <td>    0.157</td> <td>    8.434</td> <td> 0.000</td> <td>    1.008</td> <td>    1.637</td>\n",
       "</tr>\n",
       "<tr>\n",
       "  <th>SMB</th>    <td>   -0.4575</td> <td>    0.280</td> <td>   -1.633</td> <td> 0.108</td> <td>   -1.019</td> <td>    0.104</td>\n",
       "</tr>\n",
       "<tr>\n",
       "  <th>HML</th>    <td>   -0.6751</td> <td>    0.208</td> <td>   -3.246</td> <td> 0.002</td> <td>   -1.092</td> <td>   -0.258</td>\n",
       "</tr>\n",
       "<tr>\n",
       "  <th>RF</th>     <td>   -1.1300</td> <td>    0.102</td> <td>  -11.108</td> <td> 0.000</td> <td>   -1.334</td> <td>   -0.926</td>\n",
       "</tr>\n",
       "</table>\n",
       "<table class=\"simpletable\">\n",
       "<tr>\n",
       "  <th>Omnibus:</th>       <td> 1.960</td> <th>  Durbin-Watson:     </th> <td>   2.203</td>\n",
       "</tr>\n",
       "<tr>\n",
       "  <th>Prob(Omnibus):</th> <td> 0.375</td> <th>  Jarque-Bera (JB):  </th> <td>   1.883</td>\n",
       "</tr>\n",
       "<tr>\n",
       "  <th>Skew:</th>          <td> 0.415</td> <th>  Prob(JB):          </th> <td>   0.390</td>\n",
       "</tr>\n",
       "<tr>\n",
       "  <th>Kurtosis:</th>      <td> 2.722</td> <th>  Cond. No.          </th> <td>    45.2</td>\n",
       "</tr>\n",
       "</table><br/><br/>Notes:<br/>[1] Standard Errors assume that the covariance matrix of the errors is correctly specified."
      ],
      "text/plain": [
       "<class 'statsmodels.iolib.summary.Summary'>\n",
       "\"\"\"\n",
       "                            OLS Regression Results                            \n",
       "==============================================================================\n",
       "Dep. Variable:                my_port   R-squared:                       0.826\n",
       "Model:                            OLS   Adj. R-squared:                  0.814\n",
       "Method:                 Least Squares   F-statistic:                     64.30\n",
       "Date:                Fri, 19 Mar 2021   Prob (F-statistic):           6.76e-20\n",
       "Time:                        17:38:39   Log-Likelihood:                 95.890\n",
       "No. Observations:                  59   AIC:                            -181.8\n",
       "Df Residuals:                      54   BIC:                            -171.4\n",
       "Df Model:                           4                                         \n",
       "Covariance Type:            nonrobust                                         \n",
       "==============================================================================\n",
       "                 coef    std err          t      P>|t|      [0.025      0.975]\n",
       "------------------------------------------------------------------------------\n",
       "const          0.0280      0.012      2.320      0.024       0.004       0.052\n",
       "Mkt-RF         1.3226      0.157      8.434      0.000       1.008       1.637\n",
       "SMB           -0.4575      0.280     -1.633      0.108      -1.019       0.104\n",
       "HML           -0.6751      0.208     -3.246      0.002      -1.092      -0.258\n",
       "RF            -1.1300      0.102    -11.108      0.000      -1.334      -0.926\n",
       "==============================================================================\n",
       "Omnibus:                        1.960   Durbin-Watson:                   2.203\n",
       "Prob(Omnibus):                  0.375   Jarque-Bera (JB):                1.883\n",
       "Skew:                           0.415   Prob(JB):                        0.390\n",
       "Kurtosis:                       2.722   Cond. No.                         45.2\n",
       "==============================================================================\n",
       "\n",
       "Notes:\n",
       "[1] Standard Errors assume that the covariance matrix of the errors is correctly specified.\n",
       "\"\"\""
      ]
     },
     "execution_count": 834,
     "metadata": {},
     "output_type": "execute_result"
    }
   ],
   "source": [
    "mod = sm.OLS(ff_merge['my_port'], ff_merge[['const', 'Mkt-RF', 'SMB', 'HML', 'RF']])\n",
    "res = mod.fit()\n",
    "res.summary()"
   ]
  },
  {
   "cell_type": "markdown",
   "metadata": {},
   "source": [
    "#### Interpretation of results"
   ]
  },
  {
   "cell_type": "markdown",
   "metadata": {},
   "source": [
    "For the purpose of this analysis, we are mostly interested in the numbers in the second table, which lists the different variables in the model (const, Mkt-RF, SMB, HML, RF). The coef column lists the regression coefficients or beta for each variable in the model. The remaining columns are primarily relevant for the statistical significance of the regression coefficients.\n",
    "\n",
    "We might have been able to guess, that we would expect a negative relationshiop with SMB and HML, since our portfolio only consists of large companies with a low book-to-market equity. The beta for the excess market returns is larger than 1, which indicates that the portfolio has a higher risk than the market. The constant represents the alpha value, which is the excess returns when the market return is 0. The fact, that the constant is 0.028 suggests that the portfolio outperformed the market by 2.8%."
   ]
  },
  {
   "cell_type": "markdown",
   "metadata": {},
   "source": [
    "### Task - Fama French 3 model portfolio evaluation"
   ]
  },
  {
   "cell_type": "markdown",
   "metadata": {},
   "source": [
    "1. Pick a fund that you are interested in. You can also have a look at the [yahoo finance top mutual funds list](https://finance.yahoo.com/screener/predefined/top_mutual_funds), which already shows the symbol in the first column.\n",
    "2. Download the fund data from yahoo finance for the last 5 years or the maximum available period.\n",
    "3. Download the Fama French data.\n",
    "4. Prepare both dataset, so that you can merge them. You will have resample the data from your fund to monthly data, check that both have the same range of dates and change the index for the fund returns to a period index.\n",
    "5. Merge both datasets.\n",
    "6. Run the regression. What do the results indicate?"
   ]
  },
  {
   "cell_type": "code",
   "execution_count": null,
   "metadata": {},
   "outputs": [],
   "source": []
  }
 ],
 "metadata": {
  "kernelspec": {
   "display_name": "Python 3",
   "language": "python",
   "name": "python3"
  },
  "language_info": {
   "codemirror_mode": {
    "name": "ipython",
    "version": 3
   },
   "file_extension": ".py",
   "mimetype": "text/x-python",
   "name": "python",
   "nbconvert_exporter": "python",
   "pygments_lexer": "ipython3",
   "version": "3.7.4"
  }
 },
 "nbformat": 4,
 "nbformat_minor": 2
}
