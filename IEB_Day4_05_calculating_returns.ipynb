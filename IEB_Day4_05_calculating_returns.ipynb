{
 "cells": [
  {
   "cell_type": "markdown",
   "metadata": {},
   "source": [
    "## Calculating returns"
   ]
  },
  {
   "cell_type": "markdown",
   "metadata": {},
   "source": [
    "### What you will learn in this session\n",
    "\n",
    "- Calculating returns for stock price data\n",
    "- Calculating monthl and annual returns using grouped aggregation\n",
    "- Creating new columns for monthly and annual returns"
   ]
  },
  {
   "cell_type": "markdown",
   "metadata": {},
   "source": [
    "### Examples from the intro"
   ]
  },
  {
   "cell_type": "markdown",
   "metadata": {},
   "source": [
    "#### Calculating returns and total return"
   ]
  },
  {
   "cell_type": "code",
   "execution_count": 4,
   "metadata": {},
   "outputs": [
    {
     "name": "stdout",
     "output_type": "stream",
     "text": [
      "[*********************100%***********************]  1 of 1 completed\n"
     ]
    }
   ],
   "source": [
    "import yfinance as yf\n",
    "aapl = yf.download('AAPL', period='5y')"
   ]
  },
  {
   "cell_type": "code",
   "execution_count": 6,
   "metadata": {},
   "outputs": [
    {
     "data": {
      "text/html": [
       "<div>\n",
       "<style scoped>\n",
       "    .dataframe tbody tr th:only-of-type {\n",
       "        vertical-align: middle;\n",
       "    }\n",
       "\n",
       "    .dataframe tbody tr th {\n",
       "        vertical-align: top;\n",
       "    }\n",
       "\n",
       "    .dataframe thead th {\n",
       "        text-align: right;\n",
       "    }\n",
       "</style>\n",
       "<table border=\"1\" class=\"dataframe\">\n",
       "  <thead>\n",
       "    <tr style=\"text-align: right;\">\n",
       "      <th></th>\n",
       "      <th>Open</th>\n",
       "      <th>High</th>\n",
       "      <th>Low</th>\n",
       "      <th>Close</th>\n",
       "      <th>Adj Close</th>\n",
       "      <th>Volume</th>\n",
       "      <th>ret</th>\n",
       "    </tr>\n",
       "    <tr>\n",
       "      <th>Date</th>\n",
       "      <th></th>\n",
       "      <th></th>\n",
       "      <th></th>\n",
       "      <th></th>\n",
       "      <th></th>\n",
       "      <th></th>\n",
       "      <th></th>\n",
       "    </tr>\n",
       "  </thead>\n",
       "  <tbody>\n",
       "    <tr>\n",
       "      <th>2016-05-11</th>\n",
       "      <td>23.370001</td>\n",
       "      <td>23.392500</td>\n",
       "      <td>23.115000</td>\n",
       "      <td>23.127501</td>\n",
       "      <td>21.605364</td>\n",
       "      <td>114876400</td>\n",
       "      <td>NaN</td>\n",
       "    </tr>\n",
       "    <tr>\n",
       "      <th>2016-05-12</th>\n",
       "      <td>23.180000</td>\n",
       "      <td>23.195000</td>\n",
       "      <td>22.367500</td>\n",
       "      <td>22.584999</td>\n",
       "      <td>21.098566</td>\n",
       "      <td>305258800</td>\n",
       "      <td>-0.023457</td>\n",
       "    </tr>\n",
       "    <tr>\n",
       "      <th>2016-05-13</th>\n",
       "      <td>22.500000</td>\n",
       "      <td>22.917500</td>\n",
       "      <td>22.500000</td>\n",
       "      <td>22.629999</td>\n",
       "      <td>21.140608</td>\n",
       "      <td>177571200</td>\n",
       "      <td>0.001993</td>\n",
       "    </tr>\n",
       "    <tr>\n",
       "      <th>2016-05-16</th>\n",
       "      <td>23.097500</td>\n",
       "      <td>23.597500</td>\n",
       "      <td>22.912500</td>\n",
       "      <td>23.469999</td>\n",
       "      <td>21.925322</td>\n",
       "      <td>245039200</td>\n",
       "      <td>0.037119</td>\n",
       "    </tr>\n",
       "    <tr>\n",
       "      <th>2016-05-17</th>\n",
       "      <td>23.637501</td>\n",
       "      <td>23.674999</td>\n",
       "      <td>23.252501</td>\n",
       "      <td>23.372499</td>\n",
       "      <td>21.834238</td>\n",
       "      <td>187667600</td>\n",
       "      <td>-0.004154</td>\n",
       "    </tr>\n",
       "  </tbody>\n",
       "</table>\n",
       "</div>"
      ],
      "text/plain": [
       "                 Open       High        Low      Close  Adj Close     Volume  \\\n",
       "Date                                                                           \n",
       "2016-05-11  23.370001  23.392500  23.115000  23.127501  21.605364  114876400   \n",
       "2016-05-12  23.180000  23.195000  22.367500  22.584999  21.098566  305258800   \n",
       "2016-05-13  22.500000  22.917500  22.500000  22.629999  21.140608  177571200   \n",
       "2016-05-16  23.097500  23.597500  22.912500  23.469999  21.925322  245039200   \n",
       "2016-05-17  23.637501  23.674999  23.252501  23.372499  21.834238  187667600   \n",
       "\n",
       "                 ret  \n",
       "Date                  \n",
       "2016-05-11       NaN  \n",
       "2016-05-12 -0.023457  \n",
       "2016-05-13  0.001993  \n",
       "2016-05-16  0.037119  \n",
       "2016-05-17 -0.004154  "
      ]
     },
     "execution_count": 6,
     "metadata": {},
     "output_type": "execute_result"
    }
   ],
   "source": [
    "aapl['ret'] = aapl['Adj Close'].pct_change()\n",
    "\n",
    "aapl.head()"
   ]
  },
  {
   "cell_type": "code",
   "execution_count": 2,
   "metadata": {},
   "outputs": [
    {
     "name": "stdout",
     "output_type": "stream",
     "text": [
      "[*********************100%***********************]  1 of 1 completed\n"
     ]
    },
    {
     "data": {
      "text/plain": [
       "Date\n",
       "2016-05-11         NaN\n",
       "2016-05-12   -0.023457\n",
       "2016-05-13    0.001993\n",
       "2016-05-16    0.037119\n",
       "2016-05-17   -0.004154\n",
       "                ...   \n",
       "2021-05-05    0.001956\n",
       "2021-05-06    0.012802\n",
       "2021-05-07    0.005327\n",
       "2021-05-10   -0.025805\n",
       "2021-05-11   -0.022310\n",
       "Name: Adj Close, Length: 1259, dtype: float64"
      ]
     },
     "execution_count": 2,
     "metadata": {},
     "output_type": "execute_result"
    }
   ],
   "source": [
    "aapl = yf.download('AAPL', period='5y')\n",
    "\n",
    "aapl['Adj Close'].pct_change()\n"
   ]
  },
  {
   "cell_type": "code",
   "execution_count": 32,
   "metadata": {},
   "outputs": [],
   "source": [
    "# calculating return rate\n",
    "aapl['ret'] = aapl['Adj Close'].pct_change()"
   ]
  },
  {
   "cell_type": "code",
   "execution_count": 33,
   "metadata": {},
   "outputs": [
    {
     "data": {
      "text/plain": [
       "-0.00379624076069518"
      ]
     },
     "execution_count": 33,
     "metadata": {},
     "output_type": "execute_result"
    }
   ],
   "source": [
    "# calculating total return for the first 5 days method 1\n",
    "aapl_ret_1  = aapl['ret'] + 1\n",
    "aapl_ret_1[:5].prod() - 1"
   ]
  },
  {
   "cell_type": "code",
   "execution_count": 34,
   "metadata": {},
   "outputs": [
    {
     "data": {
      "text/plain": [
       "-0.00379624076069518"
      ]
     },
     "execution_count": 34,
     "metadata": {},
     "output_type": "execute_result"
    }
   ],
   "source": [
    "# calculating total return for the first 5 days method 2\n",
    "aapl['ret_1'] = aapl['ret'] + 1\n",
    "aapl['ret_1'][:5].prod() - 1"
   ]
  },
  {
   "cell_type": "code",
   "execution_count": 35,
   "metadata": {},
   "outputs": [
    {
     "data": {
      "text/plain": [
       "-0.00379624076069518"
      ]
     },
     "execution_count": 35,
     "metadata": {},
     "output_type": "execute_result"
    }
   ],
   "source": [
    "# calculating total return for the first 5 days method 3\n",
    "(aapl['ret'][:5] + 1).prod() - 1"
   ]
  },
  {
   "cell_type": "markdown",
   "metadata": {},
   "source": [
    "#### Calculating new column with annual returns"
   ]
  },
  {
   "cell_type": "code",
   "execution_count": 36,
   "metadata": {},
   "outputs": [
    {
     "data": {
      "text/html": [
       "<div>\n",
       "<style scoped>\n",
       "    .dataframe tbody tr th:only-of-type {\n",
       "        vertical-align: middle;\n",
       "    }\n",
       "\n",
       "    .dataframe tbody tr th {\n",
       "        vertical-align: top;\n",
       "    }\n",
       "\n",
       "    .dataframe thead th {\n",
       "        text-align: right;\n",
       "    }\n",
       "</style>\n",
       "<table border=\"1\" class=\"dataframe\">\n",
       "  <thead>\n",
       "    <tr style=\"text-align: right;\">\n",
       "      <th></th>\n",
       "      <th>Open</th>\n",
       "      <th>High</th>\n",
       "      <th>Low</th>\n",
       "      <th>Close</th>\n",
       "      <th>Adj Close</th>\n",
       "      <th>Volume</th>\n",
       "      <th>year</th>\n",
       "      <th>ret</th>\n",
       "      <th>ret_1</th>\n",
       "      <th>ann_ret</th>\n",
       "    </tr>\n",
       "    <tr>\n",
       "      <th>Date</th>\n",
       "      <th></th>\n",
       "      <th></th>\n",
       "      <th></th>\n",
       "      <th></th>\n",
       "      <th></th>\n",
       "      <th></th>\n",
       "      <th></th>\n",
       "      <th></th>\n",
       "      <th></th>\n",
       "      <th></th>\n",
       "    </tr>\n",
       "  </thead>\n",
       "  <tbody>\n",
       "    <tr>\n",
       "      <th>2016-05-02</th>\n",
       "      <td>23.492500</td>\n",
       "      <td>23.520000</td>\n",
       "      <td>23.100000</td>\n",
       "      <td>23.410000</td>\n",
       "      <td>21.773848</td>\n",
       "      <td>192640400</td>\n",
       "      <td>2016</td>\n",
       "      <td>NaN</td>\n",
       "      <td>NaN</td>\n",
       "      <td>0.257560</td>\n",
       "    </tr>\n",
       "    <tr>\n",
       "      <th>2016-05-03</th>\n",
       "      <td>23.549999</td>\n",
       "      <td>23.934999</td>\n",
       "      <td>23.420000</td>\n",
       "      <td>23.795000</td>\n",
       "      <td>22.131937</td>\n",
       "      <td>227325200</td>\n",
       "      <td>2016</td>\n",
       "      <td>0.016446</td>\n",
       "      <td>1.016446</td>\n",
       "      <td>0.257560</td>\n",
       "    </tr>\n",
       "    <tr>\n",
       "      <th>2016-05-04</th>\n",
       "      <td>23.799999</td>\n",
       "      <td>23.975000</td>\n",
       "      <td>23.455000</td>\n",
       "      <td>23.547501</td>\n",
       "      <td>21.901741</td>\n",
       "      <td>164102000</td>\n",
       "      <td>2016</td>\n",
       "      <td>-0.010401</td>\n",
       "      <td>0.989599</td>\n",
       "      <td>0.257560</td>\n",
       "    </tr>\n",
       "    <tr>\n",
       "      <th>2016-05-05</th>\n",
       "      <td>23.500000</td>\n",
       "      <td>23.517500</td>\n",
       "      <td>23.170000</td>\n",
       "      <td>23.309999</td>\n",
       "      <td>21.812840</td>\n",
       "      <td>143562000</td>\n",
       "      <td>2016</td>\n",
       "      <td>-0.004059</td>\n",
       "      <td>0.995941</td>\n",
       "      <td>0.257560</td>\n",
       "    </tr>\n",
       "    <tr>\n",
       "      <th>2016-05-06</th>\n",
       "      <td>23.342501</td>\n",
       "      <td>23.362499</td>\n",
       "      <td>22.962500</td>\n",
       "      <td>23.180000</td>\n",
       "      <td>21.691189</td>\n",
       "      <td>174799600</td>\n",
       "      <td>2016</td>\n",
       "      <td>-0.005577</td>\n",
       "      <td>0.994423</td>\n",
       "      <td>0.257560</td>\n",
       "    </tr>\n",
       "    <tr>\n",
       "      <th>...</th>\n",
       "      <td>...</td>\n",
       "      <td>...</td>\n",
       "      <td>...</td>\n",
       "      <td>...</td>\n",
       "      <td>...</td>\n",
       "      <td>...</td>\n",
       "      <td>...</td>\n",
       "      <td>...</td>\n",
       "      <td>...</td>\n",
       "      <td>...</td>\n",
       "    </tr>\n",
       "    <tr>\n",
       "      <th>2021-04-23</th>\n",
       "      <td>132.160004</td>\n",
       "      <td>135.119995</td>\n",
       "      <td>132.160004</td>\n",
       "      <td>134.320007</td>\n",
       "      <td>134.320007</td>\n",
       "      <td>78657500</td>\n",
       "      <td>2021</td>\n",
       "      <td>0.018039</td>\n",
       "      <td>1.018039</td>\n",
       "      <td>0.007457</td>\n",
       "    </tr>\n",
       "    <tr>\n",
       "      <th>2021-04-26</th>\n",
       "      <td>134.830002</td>\n",
       "      <td>135.059998</td>\n",
       "      <td>133.559998</td>\n",
       "      <td>134.720001</td>\n",
       "      <td>134.720001</td>\n",
       "      <td>66905100</td>\n",
       "      <td>2021</td>\n",
       "      <td>0.002978</td>\n",
       "      <td>1.002978</td>\n",
       "      <td>0.007457</td>\n",
       "    </tr>\n",
       "    <tr>\n",
       "      <th>2021-04-27</th>\n",
       "      <td>135.009995</td>\n",
       "      <td>135.410004</td>\n",
       "      <td>134.110001</td>\n",
       "      <td>134.389999</td>\n",
       "      <td>134.389999</td>\n",
       "      <td>66015800</td>\n",
       "      <td>2021</td>\n",
       "      <td>-0.002450</td>\n",
       "      <td>0.997550</td>\n",
       "      <td>0.007457</td>\n",
       "    </tr>\n",
       "    <tr>\n",
       "      <th>2021-04-28</th>\n",
       "      <td>134.309998</td>\n",
       "      <td>135.020004</td>\n",
       "      <td>133.080002</td>\n",
       "      <td>133.580002</td>\n",
       "      <td>133.580002</td>\n",
       "      <td>107760100</td>\n",
       "      <td>2021</td>\n",
       "      <td>-0.006027</td>\n",
       "      <td>0.993973</td>\n",
       "      <td>0.007457</td>\n",
       "    </tr>\n",
       "    <tr>\n",
       "      <th>2021-04-29</th>\n",
       "      <td>136.470001</td>\n",
       "      <td>137.070007</td>\n",
       "      <td>132.449997</td>\n",
       "      <td>133.479996</td>\n",
       "      <td>133.479996</td>\n",
       "      <td>150777100</td>\n",
       "      <td>2021</td>\n",
       "      <td>-0.000749</td>\n",
       "      <td>0.999251</td>\n",
       "      <td>0.007457</td>\n",
       "    </tr>\n",
       "  </tbody>\n",
       "</table>\n",
       "<p>1258 rows × 10 columns</p>\n",
       "</div>"
      ],
      "text/plain": [
       "                  Open        High         Low       Close   Adj Close  \\\n",
       "Date                                                                     \n",
       "2016-05-02   23.492500   23.520000   23.100000   23.410000   21.773848   \n",
       "2016-05-03   23.549999   23.934999   23.420000   23.795000   22.131937   \n",
       "2016-05-04   23.799999   23.975000   23.455000   23.547501   21.901741   \n",
       "2016-05-05   23.500000   23.517500   23.170000   23.309999   21.812840   \n",
       "2016-05-06   23.342501   23.362499   22.962500   23.180000   21.691189   \n",
       "...                ...         ...         ...         ...         ...   \n",
       "2021-04-23  132.160004  135.119995  132.160004  134.320007  134.320007   \n",
       "2021-04-26  134.830002  135.059998  133.559998  134.720001  134.720001   \n",
       "2021-04-27  135.009995  135.410004  134.110001  134.389999  134.389999   \n",
       "2021-04-28  134.309998  135.020004  133.080002  133.580002  133.580002   \n",
       "2021-04-29  136.470001  137.070007  132.449997  133.479996  133.479996   \n",
       "\n",
       "               Volume  year       ret     ret_1   ann_ret  \n",
       "Date                                                       \n",
       "2016-05-02  192640400  2016       NaN       NaN  0.257560  \n",
       "2016-05-03  227325200  2016  0.016446  1.016446  0.257560  \n",
       "2016-05-04  164102000  2016 -0.010401  0.989599  0.257560  \n",
       "2016-05-05  143562000  2016 -0.004059  0.995941  0.257560  \n",
       "2016-05-06  174799600  2016 -0.005577  0.994423  0.257560  \n",
       "...               ...   ...       ...       ...       ...  \n",
       "2021-04-23   78657500  2021  0.018039  1.018039  0.007457  \n",
       "2021-04-26   66905100  2021  0.002978  1.002978  0.007457  \n",
       "2021-04-27   66015800  2021 -0.002450  0.997550  0.007457  \n",
       "2021-04-28  107760100  2021 -0.006027  0.993973  0.007457  \n",
       "2021-04-29  150777100  2021 -0.000749  0.999251  0.007457  \n",
       "\n",
       "[1258 rows x 10 columns]"
      ]
     },
     "execution_count": 36,
     "metadata": {},
     "output_type": "execute_result"
    }
   ],
   "source": [
    "# extracting the year from the index\n",
    "aapl['year'] = aapl.index.year\n",
    "\n",
    "# new column for return + 1, for calculating the product\n",
    "aapl['ret_1'] = aapl['ret'] + 1\n",
    "\n",
    "# calculate new column for annual returns\n",
    "aapl['ann_ret'] = aapl.groupby('year')['ret_1'].transform('prod') - 1\n",
    "\n",
    "aapl"
   ]
  },
  {
   "cell_type": "markdown",
   "metadata": {},
   "source": [
    "### Task 1 - Importing the netflix stock data"
   ]
  },
  {
   "cell_type": "markdown",
   "metadata": {},
   "source": [
    "1. Import the yfinance library under the alias yf.\n",
    "2. Download the Netflix stock data starting from 2009.\n",
    "3. print the head and tail of the netflix data."
   ]
  },
  {
   "cell_type": "code",
   "execution_count": null,
   "metadata": {},
   "outputs": [],
   "source": [
    "# Import the yfinance library under the alias yf.\n",
    "\n",
    "\n",
    "# Download the Netflix stock data starting from 2009.\n",
    "\n",
    "\n",
    "# print the head and tail of the netflix data.\n",
    "\n"
   ]
  },
  {
   "cell_type": "markdown",
   "metadata": {},
   "source": [
    "### Task 2 - Calculate the total return"
   ]
  },
  {
   "cell_type": "markdown",
   "metadata": {},
   "source": [
    "1. Create a new column for the return rates called 'ret'\n",
    "2. Calculate the total return rate for the first 10 days"
   ]
  },
  {
   "cell_type": "code",
   "execution_count": 25,
   "metadata": {},
   "outputs": [
    {
     "data": {
      "text/plain": [
       "0.058587212408481415"
      ]
     },
     "execution_count": 25,
     "metadata": {},
     "output_type": "execute_result"
    }
   ],
   "source": [
    "# Create a new column for the return rates called 'ret'\n",
    "\n",
    "\n",
    "# Calculate the total return rate for the first 10 days\n",
    "\n"
   ]
  },
  {
   "cell_type": "markdown",
   "metadata": {},
   "source": [
    "### Task 3 - Calculating the annual returns for netflix\n",
    "\n",
    "1. Create a new column for the year, by extracting the year value from the index\n",
    "2. Calculate a column for the return + 1\n",
    "3. Calculate a new column for the annual returns. Group based on the year column and broadcast the product of the ret + 1 column using the `.transform()` method.\n"
   ]
  },
  {
   "cell_type": "code",
   "execution_count": 1,
   "metadata": {},
   "outputs": [],
   "source": [
    "# Create a new column for the year, by extracting the year value from the index\n",
    "\n",
    "\n",
    "# Calculate a column for the return + 1\n",
    "\n",
    "\n",
    "# Calculate a new column for the annual returns. \n",
    "# Create groups based on the year column and broadcast the product of the ret + 1 column using the .transform() method.\n",
    "\n",
    "\n"
   ]
  },
  {
   "cell_type": "markdown",
   "metadata": {},
   "source": [
    "### Task 5 - Calculating the monthly returns for netflix\n",
    "\n",
    "1. Create a new column for the month, by extracting the month value from the index\n",
    "2. Calculate a new column for the monthly returns."
   ]
  },
  {
   "cell_type": "code",
   "execution_count": 2,
   "metadata": {},
   "outputs": [],
   "source": [
    "# Create a new column for the month, by extracting the month value from the index\n",
    "\n",
    "\n",
    "# Calculate a new column for the monthly returns.\n",
    "\n",
    "\n"
   ]
  },
  {
   "cell_type": "markdown",
   "metadata": {},
   "source": [
    "#### quick plot to check on results"
   ]
  },
  {
   "cell_type": "markdown",
   "metadata": {},
   "source": [
    "You can run this code cell to check whether your data look like in the plot below."
   ]
  },
  {
   "cell_type": "code",
   "execution_count": null,
   "metadata": {},
   "outputs": [],
   "source": [
    "# run this cell\n",
    "nflx[['ret_ann','ret_month', 'ret']].plot(figsize=(15,10))"
   ]
  },
  {
   "cell_type": "code",
   "execution_count": 41,
   "metadata": {},
   "outputs": [
    {
     "data": {
      "text/plain": [
       "<AxesSubplot:xlabel='Date'>"
      ]
     },
     "execution_count": 41,
     "metadata": {},
     "output_type": "execute_result"
    },
    {
     "data": {
      "image/png": "[encoded data removed]",
      "text/plain": [
       "<Figure size 1080x720 with 1 Axes>"
      ]
     },
     "metadata": {
      "needs_background": "light"
     },
     "output_type": "display_data"
    }
   ],
   "source": [
    "# don't run this cell"
   ]
  }
 ],
 "metadata": {
  "kernelspec": {
   "display_name": "Python 3",
   "language": "python",
   "name": "python3"
  },
  "language_info": {
   "codemirror_mode": {
    "name": "ipython",
    "version": 3
   },
   "file_extension": ".py",
   "mimetype": "text/x-python",
   "name": "python",
   "nbconvert_exporter": "python",
   "pygments_lexer": "ipython3",
   "version": "3.8.5"
  }
 },
 "nbformat": 4,
 "nbformat_minor": 2
}
