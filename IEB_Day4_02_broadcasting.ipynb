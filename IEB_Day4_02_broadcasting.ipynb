{
 "cells": [
  {
   "cell_type": "markdown",
   "metadata": {},
   "source": [
    "## Multi-level grouping and broadcasting grouped aggregations"
   ]
  },
  {
   "cell_type": "markdown",
   "metadata": {},
   "source": [
    "### What you will learn in this session\n",
    "\n",
    "- Calculating grouped summary statistics using more than one column to group\n",
    "- Broadcasting grouped summary statistics to create new columns"
   ]
  },
  {
   "cell_type": "markdown",
   "metadata": {},
   "source": [
    "### Examples from the intro"
   ]
  },
  {
   "cell_type": "markdown",
   "metadata": {},
   "source": [
    "#### import pandas and dataset"
   ]
  },
  {
   "cell_type": "code",
   "execution_count": 1,
   "metadata": {},
   "outputs": [],
   "source": [
    "import pandas as pd\n",
    "\n",
    "vc_sales = pd.read_csv('console_sales.csv')"
   ]
  },
  {
   "cell_type": "markdown",
   "metadata": {},
   "source": [
    "#### Multi-level grouping and aggregating"
   ]
  },
  {
   "cell_type": "markdown",
   "metadata": {},
   "source": [
    "Calculating the mean of the sold_year column for each company per decade."
   ]
  },
  {
   "cell_type": "code",
   "execution_count": 24,
   "metadata": {},
   "outputs": [
    {
     "data": {
      "text/plain": [
       "company    decade\n",
       "Microsoft  2000      7.386598e+06\n",
       "           2010      6.462089e+06\n",
       "Nintendo   2000      1.624794e+07\n",
       "           2010      7.101272e+06\n",
       "Sony       2000      9.799716e+06\n",
       "           2010      6.926928e+06\n",
       "Name: sold_year, dtype: float64"
      ]
     },
     "execution_count": 24,
     "metadata": {},
     "output_type": "execute_result"
    }
   ],
   "source": [
    "vc_sales.groupby(['company', 'decade'])['sold_year'].mean()"
   ]
  },
  {
   "cell_type": "markdown",
   "metadata": {},
   "source": [
    "#### Broadcasting/creating new column based on grouped aggregation"
   ]
  },
  {
   "cell_type": "markdown",
   "metadata": {},
   "source": [
    "Using `.transform()` will reproduce each of the aggregated values for the number of rows per group."
   ]
  },
  {
   "cell_type": "code",
   "execution_count": 2,
   "metadata": {},
   "outputs": [
    {
     "data": {
      "text/plain": [
       "0     84892507\n",
       "1     84892507\n",
       "2     84892507\n",
       "3     84892507\n",
       "4     84892507\n",
       "        ...   \n",
       "76    15939902\n",
       "77    15939902\n",
       "78    15939902\n",
       "79    15939902\n",
       "80    15939902\n",
       "Name: sold_year, Length: 81, dtype: int64"
      ]
     },
     "execution_count": 2,
     "metadata": {},
     "output_type": "execute_result"
    }
   ],
   "source": [
    "vc_sales.groupby(['platform'])['sold_year'].transform('sum')"
   ]
  },
  {
   "cell_type": "markdown",
   "metadata": {},
   "source": [
    "Creating a new column for the total sales per platform."
   ]
  },
  {
   "cell_type": "code",
   "execution_count": 25,
   "metadata": {},
   "outputs": [
    {
     "data": {
      "text/html": [
       "<div>\n",
       "<style scoped>\n",
       "    .dataframe tbody tr th:only-of-type {\n",
       "        vertical-align: middle;\n",
       "    }\n",
       "\n",
       "    .dataframe tbody tr th {\n",
       "        vertical-align: top;\n",
       "    }\n",
       "\n",
       "    .dataframe thead th {\n",
       "        text-align: right;\n",
       "    }\n",
       "</style>\n",
       "<table border=\"1\" class=\"dataframe\">\n",
       "  <thead>\n",
       "    <tr style=\"text-align: right;\">\n",
       "      <th></th>\n",
       "      <th>company</th>\n",
       "      <th>platform</th>\n",
       "      <th>year</th>\n",
       "      <th>sold_year</th>\n",
       "      <th>sold_total</th>\n",
       "      <th>sold_year_pct_change</th>\n",
       "      <th>decade</th>\n",
       "      <th>total_platform_sales</th>\n",
       "    </tr>\n",
       "  </thead>\n",
       "  <tbody>\n",
       "    <tr>\n",
       "      <th>0</th>\n",
       "      <td>Microsoft</td>\n",
       "      <td>X360</td>\n",
       "      <td>2005</td>\n",
       "      <td>1178267</td>\n",
       "      <td>1178267</td>\n",
       "      <td>NaN</td>\n",
       "      <td>2000</td>\n",
       "      <td>84892507</td>\n",
       "    </tr>\n",
       "    <tr>\n",
       "      <th>1</th>\n",
       "      <td>Microsoft</td>\n",
       "      <td>X360</td>\n",
       "      <td>2006</td>\n",
       "      <td>6801532</td>\n",
       "      <td>7979799</td>\n",
       "      <td>577.248790</td>\n",
       "      <td>2000</td>\n",
       "      <td>84892507</td>\n",
       "    </tr>\n",
       "    <tr>\n",
       "      <th>2</th>\n",
       "      <td>Microsoft</td>\n",
       "      <td>X360</td>\n",
       "      <td>2007</td>\n",
       "      <td>7879552</td>\n",
       "      <td>15859351</td>\n",
       "      <td>98.743740</td>\n",
       "      <td>2000</td>\n",
       "      <td>84892507</td>\n",
       "    </tr>\n",
       "    <tr>\n",
       "      <th>3</th>\n",
       "      <td>Microsoft</td>\n",
       "      <td>X360</td>\n",
       "      <td>2008</td>\n",
       "      <td>10913123</td>\n",
       "      <td>26772474</td>\n",
       "      <td>68.811914</td>\n",
       "      <td>2000</td>\n",
       "      <td>84892507</td>\n",
       "    </tr>\n",
       "    <tr>\n",
       "      <th>4</th>\n",
       "      <td>Microsoft</td>\n",
       "      <td>X360</td>\n",
       "      <td>2009</td>\n",
       "      <td>10160518</td>\n",
       "      <td>36932992</td>\n",
       "      <td>37.951360</td>\n",
       "      <td>2000</td>\n",
       "      <td>84892507</td>\n",
       "    </tr>\n",
       "  </tbody>\n",
       "</table>\n",
       "</div>"
      ],
      "text/plain": [
       "     company platform  year  sold_year  sold_total  sold_year_pct_change  \\\n",
       "0  Microsoft     X360  2005    1178267     1178267                   NaN   \n",
       "1  Microsoft     X360  2006    6801532     7979799            577.248790   \n",
       "2  Microsoft     X360  2007    7879552    15859351             98.743740   \n",
       "3  Microsoft     X360  2008   10913123    26772474             68.811914   \n",
       "4  Microsoft     X360  2009   10160518    36932992             37.951360   \n",
       "\n",
       "   decade  total_platform_sales  \n",
       "0    2000              84892507  \n",
       "1    2000              84892507  \n",
       "2    2000              84892507  \n",
       "3    2000              84892507  \n",
       "4    2000              84892507  "
      ]
     },
     "execution_count": 25,
     "metadata": {},
     "output_type": "execute_result"
    }
   ],
   "source": [
    "vc_sales['total_platform_sales'] = vc_sales.groupby(['platform'])['sold_year'].transform('sum')\n",
    "\n",
    "vc_sales.head()"
   ]
  },
  {
   "cell_type": "markdown",
   "metadata": {},
   "source": [
    "### Task 1- Multi-level grouping\n",
    "\n",
    "1. Run the code cell below to load the titanic dataset\n",
    "2. Calculate the average survival rate for each level of sex and pclass combined.\n",
    "3. Calcualte the mean, standard deviation, min and max of age for each level of pclass and sex."
   ]
  },
  {
   "cell_type": "code",
   "execution_count": 11,
   "metadata": {},
   "outputs": [],
   "source": [
    "import pandas as pd\n",
    "import seaborn as sns\n",
    "titanic = sns.utils.load_dataset('titanic')"
   ]
  },
  {
   "cell_type": "code",
   "execution_count": 1,
   "metadata": {},
   "outputs": [],
   "source": [
    "# Calculate the average survival rate for each level of sex and pclass combined.\n",
    "\n"
   ]
  },
  {
   "cell_type": "code",
   "execution_count": 2,
   "metadata": {},
   "outputs": [],
   "source": [
    "# Calcualte the mean, standard deviation, min and max of age for each level of pclass and sex.\n",
    "\n"
   ]
  },
  {
   "cell_type": "markdown",
   "metadata": {},
   "source": [
    "### Task 2 - Calculating new columns based on a grouping"
   ]
  },
  {
   "cell_type": "markdown",
   "metadata": {},
   "source": [
    "1. Calculate a new column called 'pclass_survival' for the mean survival rate for each level of pclass.\n",
    "2. Calculate a new column called 'pclass_sex_survival' for the mean survival rate for each level of pclass and sex combined."
   ]
  },
  {
   "cell_type": "code",
   "execution_count": 3,
   "metadata": {},
   "outputs": [],
   "source": [
    "# calculate a new column called 'pclass_survival' for the mean survival rate for each level of pclass.\n",
    "\n"
   ]
  },
  {
   "cell_type": "code",
   "execution_count": 4,
   "metadata": {},
   "outputs": [],
   "source": [
    "# calculate a new column called 'pclass_sex_survival' for the mean survival rate for each level of pclass and sex combined.\n",
    "\n"
   ]
  }
 ],
 "metadata": {
  "kernelspec": {
   "display_name": "Python 3",
   "language": "python",
   "name": "python3"
  },
  "language_info": {
   "codemirror_mode": {
    "name": "ipython",
    "version": 3
   },
   "file_extension": ".py",
   "mimetype": "text/x-python",
   "name": "python",
   "nbconvert_exporter": "python",
   "pygments_lexer": "ipython3",
   "version": "3.8.5"
  }
 },
 "nbformat": 4,
 "nbformat_minor": 2
}
